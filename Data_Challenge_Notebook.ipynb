{
 "cells": [
  {
   "cell_type": "markdown",
   "metadata": {},
   "source": [
    "# Part 1 - Exploratory Data Analysis"
   ]
  },
  {
   "cell_type": "code",
   "execution_count": 1,
   "metadata": {},
   "outputs": [],
   "source": [
    "import pandas as pd\n",
    "import numpy as np\n",
    "import matplotlib.pyplot as plt"
   ]
  },
  {
   "cell_type": "markdown",
   "metadata": {},
   "source": [
    "First we convert the json file to a dataframe"
   ]
  },
  {
   "cell_type": "code",
   "execution_count": 2,
   "metadata": {},
   "outputs": [
    {
     "data": {
      "text/plain": [
       "50000"
      ]
     },
     "execution_count": 2,
     "metadata": {},
     "output_type": "execute_result"
    }
   ],
   "source": [
    "df = pd.read_json(\"ultimate_data_challenge.json\")\n",
    "len(df)"
   ]
  },
  {
   "cell_type": "code",
   "execution_count": 3,
   "metadata": {},
   "outputs": [],
   "source": [
    "logins = pd.read_json(\"logins.json\")"
   ]
  },
  {
   "cell_type": "code",
   "execution_count": 4,
   "metadata": {},
   "outputs": [],
   "source": [
    "import datetime"
   ]
  },
  {
   "cell_type": "code",
   "execution_count": 5,
   "metadata": {},
   "outputs": [
    {
     "data": {
      "text/html": [
       "<div>\n",
       "<style scoped>\n",
       "    .dataframe tbody tr th:only-of-type {\n",
       "        vertical-align: middle;\n",
       "    }\n",
       "\n",
       "    .dataframe tbody tr th {\n",
       "        vertical-align: top;\n",
       "    }\n",
       "\n",
       "    .dataframe thead th {\n",
       "        text-align: right;\n",
       "    }\n",
       "</style>\n",
       "<table border=\"1\" class=\"dataframe\">\n",
       "  <thead>\n",
       "    <tr style=\"text-align: right;\">\n",
       "      <th></th>\n",
       "      <th>login_time</th>\n",
       "    </tr>\n",
       "  </thead>\n",
       "  <tbody>\n",
       "    <tr>\n",
       "      <th>0</th>\n",
       "      <td>1970-01-01 20:13:18</td>\n",
       "    </tr>\n",
       "    <tr>\n",
       "      <th>1</th>\n",
       "      <td>1970-01-01 20:16:10</td>\n",
       "    </tr>\n",
       "    <tr>\n",
       "      <th>2</th>\n",
       "      <td>1970-01-01 20:16:37</td>\n",
       "    </tr>\n",
       "    <tr>\n",
       "      <th>3</th>\n",
       "      <td>1970-01-01 20:16:36</td>\n",
       "    </tr>\n",
       "    <tr>\n",
       "      <th>4</th>\n",
       "      <td>1970-01-01 20:26:21</td>\n",
       "    </tr>\n",
       "  </tbody>\n",
       "</table>\n",
       "</div>"
      ],
      "text/plain": [
       "           login_time\n",
       "0 1970-01-01 20:13:18\n",
       "1 1970-01-01 20:16:10\n",
       "2 1970-01-01 20:16:37\n",
       "3 1970-01-01 20:16:36\n",
       "4 1970-01-01 20:26:21"
      ]
     },
     "execution_count": 5,
     "metadata": {},
     "output_type": "execute_result"
    }
   ],
   "source": [
    "logins.head()"
   ]
  },
  {
   "cell_type": "markdown",
   "metadata": {},
   "source": [
    "Are there any NaNs?"
   ]
  },
  {
   "cell_type": "code",
   "execution_count": 6,
   "metadata": {},
   "outputs": [
    {
     "data": {
      "text/plain": [
       "False"
      ]
     },
     "execution_count": 6,
     "metadata": {},
     "output_type": "execute_result"
    }
   ],
   "source": [
    "logins.isnull().values.any()"
   ]
  },
  {
   "cell_type": "markdown",
   "metadata": {},
   "source": [
    "Looks like we are good to reformat this by the count at 15 minute intervals."
   ]
  },
  {
   "cell_type": "code",
   "execution_count": 7,
   "metadata": {},
   "outputs": [],
   "source": [
    "logins_count = logins.resample('15T', on='login_time').count()"
   ]
  },
  {
   "cell_type": "code",
   "execution_count": 8,
   "metadata": {},
   "outputs": [
    {
     "data": {
      "text/plain": [
       "(93142, 1)"
      ]
     },
     "execution_count": 8,
     "metadata": {},
     "output_type": "execute_result"
    }
   ],
   "source": [
    "logins.shape"
   ]
  },
  {
   "cell_type": "code",
   "execution_count": 9,
   "metadata": {},
   "outputs": [
    {
     "data": {
      "text/plain": [
       "login_time    datetime64[ns]\n",
       "dtype: object"
      ]
     },
     "execution_count": 9,
     "metadata": {},
     "output_type": "execute_result"
    }
   ],
   "source": [
    "logins.dtypes"
   ]
  },
  {
   "cell_type": "code",
   "execution_count": 10,
   "metadata": {},
   "outputs": [
    {
     "data": {
      "text/plain": [
       "<bound method NDFrame.describe of                login_time\n",
       "0     1970-01-01 20:13:18\n",
       "1     1970-01-01 20:16:10\n",
       "2     1970-01-01 20:16:37\n",
       "3     1970-01-01 20:16:36\n",
       "4     1970-01-01 20:26:21\n",
       "...                   ...\n",
       "93137 1970-04-13 18:50:19\n",
       "93138 1970-04-13 18:43:56\n",
       "93139 1970-04-13 18:54:02\n",
       "93140 1970-04-13 18:57:38\n",
       "93141 1970-04-13 18:54:23\n",
       "\n",
       "[93142 rows x 1 columns]>"
      ]
     },
     "execution_count": 10,
     "metadata": {},
     "output_type": "execute_result"
    }
   ],
   "source": [
    "logins.describe"
   ]
  },
  {
   "cell_type": "code",
   "execution_count": 11,
   "metadata": {},
   "outputs": [
    {
     "data": {
      "text/html": [
       "<div>\n",
       "<style scoped>\n",
       "    .dataframe tbody tr th:only-of-type {\n",
       "        vertical-align: middle;\n",
       "    }\n",
       "\n",
       "    .dataframe tbody tr th {\n",
       "        vertical-align: top;\n",
       "    }\n",
       "\n",
       "    .dataframe thead th {\n",
       "        text-align: right;\n",
       "    }\n",
       "</style>\n",
       "<table border=\"1\" class=\"dataframe\">\n",
       "  <thead>\n",
       "    <tr style=\"text-align: right;\">\n",
       "      <th></th>\n",
       "      <th>login_time</th>\n",
       "    </tr>\n",
       "    <tr>\n",
       "      <th>login_time</th>\n",
       "      <th></th>\n",
       "    </tr>\n",
       "  </thead>\n",
       "  <tbody>\n",
       "    <tr>\n",
       "      <th>1970-01-01 20:00:00</th>\n",
       "      <td>2</td>\n",
       "    </tr>\n",
       "    <tr>\n",
       "      <th>1970-01-01 20:15:00</th>\n",
       "      <td>6</td>\n",
       "    </tr>\n",
       "    <tr>\n",
       "      <th>1970-01-01 20:30:00</th>\n",
       "      <td>9</td>\n",
       "    </tr>\n",
       "    <tr>\n",
       "      <th>1970-01-01 20:45:00</th>\n",
       "      <td>7</td>\n",
       "    </tr>\n",
       "    <tr>\n",
       "      <th>1970-01-01 21:00:00</th>\n",
       "      <td>1</td>\n",
       "    </tr>\n",
       "  </tbody>\n",
       "</table>\n",
       "</div>"
      ],
      "text/plain": [
       "                     login_time\n",
       "login_time                     \n",
       "1970-01-01 20:00:00           2\n",
       "1970-01-01 20:15:00           6\n",
       "1970-01-01 20:30:00           9\n",
       "1970-01-01 20:45:00           7\n",
       "1970-01-01 21:00:00           1"
      ]
     },
     "execution_count": 11,
     "metadata": {},
     "output_type": "execute_result"
    }
   ],
   "source": [
    "logins_count.head()"
   ]
  },
  {
   "cell_type": "code",
   "execution_count": 12,
   "metadata": {},
   "outputs": [
    {
     "data": {
      "text/plain": [
       "<AxesSubplot:xlabel='login_time'>"
      ]
     },
     "execution_count": 12,
     "metadata": {},
     "output_type": "execute_result"
    },
    {
     "data": {
      "image/png": "[encoded data removed]",
      "text/plain": [
       "<Figure size 432x288 with 1 Axes>"
      ]
     },
     "metadata": {
      "needs_background": "light"
     },
     "output_type": "display_data"
    }
   ],
   "source": [
    "logins_count.plot()"
   ]
  },
  {
   "cell_type": "markdown",
   "metadata": {},
   "source": [
    "Clearly there is a lot of seasonality in this data, but by what interval?  I'm going to look at a week of data to see how it varies per day."
   ]
  },
  {
   "cell_type": "code",
   "execution_count": 13,
   "metadata": {},
   "outputs": [],
   "source": [
    "m1 = logins_count.index > '1970-03-01'\n",
    "m2 = logins_count.index < '1970-03-08'\n",
    "marchweek = logins_count[np.logical_and.reduce([m1, m2])]"
   ]
  },
  {
   "cell_type": "code",
   "execution_count": 14,
   "metadata": {},
   "outputs": [
    {
     "data": {
      "text/plain": [
       "<AxesSubplot:xlabel='login_time'>"
      ]
     },
     "execution_count": 14,
     "metadata": {},
     "output_type": "execute_result"
    },
    {
     "data": {
      "image/png": "[encoded data removed]",
      "text/plain": [
       "<Figure size 432x288 with 1 Axes>"
      ]
     },
     "metadata": {
      "needs_background": "light"
     },
     "output_type": "display_data"
    }
   ],
   "source": [
    "marchweek.plot()"
   ]
  },
  {
   "cell_type": "code",
   "execution_count": 15,
   "metadata": {},
   "outputs": [],
   "source": [
    "oneday = logins_count.loc['1970-01-28':'1970-01-28']"
   ]
  },
  {
   "cell_type": "code",
   "execution_count": 16,
   "metadata": {
    "scrolled": true
   },
   "outputs": [
    {
     "data": {
      "text/plain": [
       "<AxesSubplot:xlabel='login_time'>"
      ]
     },
     "execution_count": 16,
     "metadata": {},
     "output_type": "execute_result"
    },
    {
     "data": {
      "image/png": "[encoded data removed]",
      "text/plain": [
       "<Figure size 432x288 with 1 Axes>"
      ]
     },
     "metadata": {
      "needs_background": "light"
     },
     "output_type": "display_data"
    }
   ],
   "source": [
    "oneday.plot()"
   ]
  },
  {
   "cell_type": "markdown",
   "metadata": {},
   "source": [
    "# Daily Cycle\n",
    "\n",
    "I think the chart above is illustrative of a daily cycle where there is a spike in the morning, then during lunch, and then finally late at night. This appears to be the case throughout a whole week, but on the weekends there are larger spikes at night."
   ]
  },
  {
   "cell_type": "code",
   "execution_count": 17,
   "metadata": {},
   "outputs": [],
   "source": [
    "logins_day = logins.resample('D', on='login_time').count()"
   ]
  },
  {
   "cell_type": "code",
   "execution_count": 18,
   "metadata": {},
   "outputs": [
    {
     "data": {
      "text/html": [
       "<div>\n",
       "<style scoped>\n",
       "    .dataframe tbody tr th:only-of-type {\n",
       "        vertical-align: middle;\n",
       "    }\n",
       "\n",
       "    .dataframe tbody tr th {\n",
       "        vertical-align: top;\n",
       "    }\n",
       "\n",
       "    .dataframe thead th {\n",
       "        text-align: right;\n",
       "    }\n",
       "</style>\n",
       "<table border=\"1\" class=\"dataframe\">\n",
       "  <thead>\n",
       "    <tr style=\"text-align: right;\">\n",
       "      <th></th>\n",
       "      <th>login_time</th>\n",
       "    </tr>\n",
       "    <tr>\n",
       "      <th>login_time</th>\n",
       "      <th></th>\n",
       "    </tr>\n",
       "  </thead>\n",
       "  <tbody>\n",
       "    <tr>\n",
       "      <th>1970-01-01</th>\n",
       "      <td>112</td>\n",
       "    </tr>\n",
       "    <tr>\n",
       "      <th>1970-01-02</th>\n",
       "      <td>681</td>\n",
       "    </tr>\n",
       "    <tr>\n",
       "      <th>1970-01-03</th>\n",
       "      <td>793</td>\n",
       "    </tr>\n",
       "    <tr>\n",
       "      <th>1970-01-04</th>\n",
       "      <td>788</td>\n",
       "    </tr>\n",
       "    <tr>\n",
       "      <th>1970-01-05</th>\n",
       "      <td>459</td>\n",
       "    </tr>\n",
       "  </tbody>\n",
       "</table>\n",
       "</div>"
      ],
      "text/plain": [
       "            login_time\n",
       "login_time            \n",
       "1970-01-01         112\n",
       "1970-01-02         681\n",
       "1970-01-03         793\n",
       "1970-01-04         788\n",
       "1970-01-05         459"
      ]
     },
     "execution_count": 18,
     "metadata": {},
     "output_type": "execute_result"
    }
   ],
   "source": [
    "logins_day.head()"
   ]
  },
  {
   "cell_type": "code",
   "execution_count": 19,
   "metadata": {},
   "outputs": [
    {
     "data": {
      "text/plain": [
       "<AxesSubplot:xlabel='login_time'>"
      ]
     },
     "execution_count": 19,
     "metadata": {},
     "output_type": "execute_result"
    },
    {
     "data": {
      "image/png": "[encoded data removed]",
      "text/plain": [
       "<Figure size 432x288 with 1 Axes>"
      ]
     },
     "metadata": {
      "needs_background": "light"
     },
     "output_type": "display_data"
    }
   ],
   "source": [
    "logins_day.plot()"
   ]
  },
  {
   "cell_type": "code",
   "execution_count": 20,
   "metadata": {},
   "outputs": [
    {
     "data": {
      "text/plain": [
       "<bound method NDFrame.describe of             login_time\n",
       "login_time            \n",
       "1970-01-01         112\n",
       "1970-01-02         681\n",
       "1970-01-03         793\n",
       "1970-01-04         788\n",
       "1970-01-05         459\n",
       "...                ...\n",
       "1970-04-09         818\n",
       "1970-04-10        1009\n",
       "1970-04-11        1352\n",
       "1970-04-12        1409\n",
       "1970-04-13         395\n",
       "\n",
       "[103 rows x 1 columns]>"
      ]
     },
     "execution_count": 20,
     "metadata": {},
     "output_type": "execute_result"
    }
   ],
   "source": [
    "logins_day.describe"
   ]
  },
  {
   "cell_type": "code",
   "execution_count": 21,
   "metadata": {},
   "outputs": [
    {
     "data": {
      "text/plain": [
       "(103, 1)"
      ]
     },
     "execution_count": 21,
     "metadata": {},
     "output_type": "execute_result"
    }
   ],
   "source": [
    "logins_day.shape"
   ]
  },
  {
   "cell_type": "code",
   "execution_count": 22,
   "metadata": {},
   "outputs": [],
   "source": [
    "onemonth = logins_day.loc['1970-02-01':'1970-02-28']"
   ]
  },
  {
   "cell_type": "code",
   "execution_count": 23,
   "metadata": {},
   "outputs": [
    {
     "data": {
      "text/plain": [
       "<AxesSubplot:xlabel='login_time'>"
      ]
     },
     "execution_count": 23,
     "metadata": {},
     "output_type": "execute_result"
    },
    {
     "data": {
      "image/png": "[encoded data removed]",
      "text/plain": [
       "<Figure size 432x288 with 1 Axes>"
      ]
     },
     "metadata": {
      "needs_background": "light"
     },
     "output_type": "display_data"
    }
   ],
   "source": [
    "onemonth.plot()"
   ]
  },
  {
   "cell_type": "markdown",
   "metadata": {},
   "source": [
    "There is also seasonality throughout the month apparently.   I'm not sure why this would be."
   ]
  },
  {
   "cell_type": "markdown",
   "metadata": {},
   "source": [
    "# Part 2 - Experiment and Metrics Design"
   ]
  },
  {
   "cell_type": "code",
   "execution_count": 24,
   "metadata": {
    "scrolled": true
   },
   "outputs": [
    {
     "data": {
      "text/html": [
       "<div>\n",
       "<style scoped>\n",
       "    .dataframe tbody tr th:only-of-type {\n",
       "        vertical-align: middle;\n",
       "    }\n",
       "\n",
       "    .dataframe tbody tr th {\n",
       "        vertical-align: top;\n",
       "    }\n",
       "\n",
       "    .dataframe thead th {\n",
       "        text-align: right;\n",
       "    }\n",
       "</style>\n",
       "<table border=\"1\" class=\"dataframe\">\n",
       "  <thead>\n",
       "    <tr style=\"text-align: right;\">\n",
       "      <th></th>\n",
       "      <th>city</th>\n",
       "      <th>trips_in_first_30_days</th>\n",
       "      <th>signup_date</th>\n",
       "      <th>avg_rating_of_driver</th>\n",
       "      <th>avg_surge</th>\n",
       "      <th>last_trip_date</th>\n",
       "      <th>phone</th>\n",
       "      <th>surge_pct</th>\n",
       "      <th>ultimate_black_user</th>\n",
       "      <th>weekday_pct</th>\n",
       "      <th>avg_dist</th>\n",
       "      <th>avg_rating_by_driver</th>\n",
       "    </tr>\n",
       "  </thead>\n",
       "  <tbody>\n",
       "    <tr>\n",
       "      <th>0</th>\n",
       "      <td>King's Landing</td>\n",
       "      <td>4</td>\n",
       "      <td>2014-01-25</td>\n",
       "      <td>4.7</td>\n",
       "      <td>1.10</td>\n",
       "      <td>2014-06-17</td>\n",
       "      <td>iPhone</td>\n",
       "      <td>15.4</td>\n",
       "      <td>True</td>\n",
       "      <td>46.2</td>\n",
       "      <td>3.67</td>\n",
       "      <td>5.0</td>\n",
       "    </tr>\n",
       "    <tr>\n",
       "      <th>1</th>\n",
       "      <td>Astapor</td>\n",
       "      <td>0</td>\n",
       "      <td>2014-01-29</td>\n",
       "      <td>5.0</td>\n",
       "      <td>1.00</td>\n",
       "      <td>2014-05-05</td>\n",
       "      <td>Android</td>\n",
       "      <td>0.0</td>\n",
       "      <td>False</td>\n",
       "      <td>50.0</td>\n",
       "      <td>8.26</td>\n",
       "      <td>5.0</td>\n",
       "    </tr>\n",
       "    <tr>\n",
       "      <th>2</th>\n",
       "      <td>Astapor</td>\n",
       "      <td>3</td>\n",
       "      <td>2014-01-06</td>\n",
       "      <td>4.3</td>\n",
       "      <td>1.00</td>\n",
       "      <td>2014-01-07</td>\n",
       "      <td>iPhone</td>\n",
       "      <td>0.0</td>\n",
       "      <td>False</td>\n",
       "      <td>100.0</td>\n",
       "      <td>0.77</td>\n",
       "      <td>5.0</td>\n",
       "    </tr>\n",
       "    <tr>\n",
       "      <th>3</th>\n",
       "      <td>King's Landing</td>\n",
       "      <td>9</td>\n",
       "      <td>2014-01-10</td>\n",
       "      <td>4.6</td>\n",
       "      <td>1.14</td>\n",
       "      <td>2014-06-29</td>\n",
       "      <td>iPhone</td>\n",
       "      <td>20.0</td>\n",
       "      <td>True</td>\n",
       "      <td>80.0</td>\n",
       "      <td>2.36</td>\n",
       "      <td>4.9</td>\n",
       "    </tr>\n",
       "    <tr>\n",
       "      <th>4</th>\n",
       "      <td>Winterfell</td>\n",
       "      <td>14</td>\n",
       "      <td>2014-01-27</td>\n",
       "      <td>4.4</td>\n",
       "      <td>1.19</td>\n",
       "      <td>2014-03-15</td>\n",
       "      <td>Android</td>\n",
       "      <td>11.8</td>\n",
       "      <td>False</td>\n",
       "      <td>82.4</td>\n",
       "      <td>3.13</td>\n",
       "      <td>4.9</td>\n",
       "    </tr>\n",
       "  </tbody>\n",
       "</table>\n",
       "</div>"
      ],
      "text/plain": [
       "             city  trips_in_first_30_days signup_date  avg_rating_of_driver  \\\n",
       "0  King's Landing                       4  2014-01-25                   4.7   \n",
       "1         Astapor                       0  2014-01-29                   5.0   \n",
       "2         Astapor                       3  2014-01-06                   4.3   \n",
       "3  King's Landing                       9  2014-01-10                   4.6   \n",
       "4      Winterfell                      14  2014-01-27                   4.4   \n",
       "\n",
       "   avg_surge last_trip_date    phone  surge_pct  ultimate_black_user  \\\n",
       "0       1.10     2014-06-17   iPhone       15.4                 True   \n",
       "1       1.00     2014-05-05  Android        0.0                False   \n",
       "2       1.00     2014-01-07   iPhone        0.0                False   \n",
       "3       1.14     2014-06-29   iPhone       20.0                 True   \n",
       "4       1.19     2014-03-15  Android       11.8                False   \n",
       "\n",
       "   weekday_pct  avg_dist  avg_rating_by_driver  \n",
       "0         46.2      3.67                   5.0  \n",
       "1         50.0      8.26                   5.0  \n",
       "2        100.0      0.77                   5.0  \n",
       "3         80.0      2.36                   4.9  \n",
       "4         82.4      3.13                   4.9  "
      ]
     },
     "execution_count": 24,
     "metadata": {},
     "output_type": "execute_result"
    }
   ],
   "source": [
    "df.head()"
   ]
  },
  {
   "cell_type": "code",
   "execution_count": 25,
   "metadata": {},
   "outputs": [
    {
     "data": {
      "text/plain": [
       "Winterfell        23336\n",
       "Astapor           16534\n",
       "King's Landing    10130\n",
       "Name: city, dtype: int64"
      ]
     },
     "execution_count": 25,
     "metadata": {},
     "output_type": "execute_result"
    }
   ],
   "source": [
    "df['city'].value_counts()"
   ]
  },
  {
   "cell_type": "markdown",
   "metadata": {},
   "source": [
    "# 2.1\n",
    "I would take the amount of bridge crosses per driver per day before the new policy, and then compare that to the amount of bridge crosses per driver per day after the new policy.  I would think that would be an easy way to see whether or not this new experiment is working.  However with the data above, it appears that we don't have that data.  Absent this data, I think the avg_dist would be the best way to measure this.  We could see how much the distance was before the policy on average, and then see if it changes afterwards.   "
   ]
  },
  {
   "cell_type": "markdown",
   "metadata": {},
   "source": [
    "# 2.2a\n",
    "I would take the avg_dist driven per dady before the policy and compare it the avg_dist after.   I would choose this metric because if drivers suddenly started crossing the bridge when they weren't before, this would be a new territory that they would be utilizing each day and it should add to their total distance driven in general.  Theoretically this new territory should drive up avg_dist in general for all users.  \n",
    "\n",
    "If I had data from the toll bridge, this exercise would be much easier, then I could simply compare toll bridge fees and crossings per driver before to after and this would give me clear data to analyze this problem."
   ]
  },
  {
   "cell_type": "markdown",
   "metadata": {},
   "source": [
    "# 2.2b\n",
    "I could just look at the average numbers, but could also do a hypothesis test to test the null hypothesis that the distances driven were the same before and after the change in policy."
   ]
  },
  {
   "cell_type": "markdown",
   "metadata": {},
   "source": [
    "# 2.2c\n",
    "I would see how statistically different the before and after results were with a null hypothesis test with a p-value of .05. "
   ]
  },
  {
   "cell_type": "markdown",
   "metadata": {},
   "source": [
    "# Part 3 - Predictive Modeling"
   ]
  },
  {
   "cell_type": "markdown",
   "metadata": {},
   "source": [
    "Was a user retained?  I will assume that if they have \"trips_in_first_30_days\" that we can consider these users retained."
   ]
  },
  {
   "cell_type": "markdown",
   "metadata": {},
   "source": [
    "# 3.1"
   ]
  },
  {
   "cell_type": "code",
   "execution_count": 26,
   "metadata": {},
   "outputs": [
    {
     "data": {
      "text/html": [
       "<div>\n",
       "<style scoped>\n",
       "    .dataframe tbody tr th:only-of-type {\n",
       "        vertical-align: middle;\n",
       "    }\n",
       "\n",
       "    .dataframe tbody tr th {\n",
       "        vertical-align: top;\n",
       "    }\n",
       "\n",
       "    .dataframe thead th {\n",
       "        text-align: right;\n",
       "    }\n",
       "</style>\n",
       "<table border=\"1\" class=\"dataframe\">\n",
       "  <thead>\n",
       "    <tr style=\"text-align: right;\">\n",
       "      <th></th>\n",
       "      <th>city</th>\n",
       "      <th>trips_in_first_30_days</th>\n",
       "      <th>signup_date</th>\n",
       "      <th>avg_rating_of_driver</th>\n",
       "      <th>avg_surge</th>\n",
       "      <th>last_trip_date</th>\n",
       "      <th>phone</th>\n",
       "      <th>surge_pct</th>\n",
       "      <th>ultimate_black_user</th>\n",
       "      <th>weekday_pct</th>\n",
       "      <th>avg_dist</th>\n",
       "      <th>avg_rating_by_driver</th>\n",
       "    </tr>\n",
       "  </thead>\n",
       "  <tbody>\n",
       "    <tr>\n",
       "      <th>0</th>\n",
       "      <td>King's Landing</td>\n",
       "      <td>4</td>\n",
       "      <td>2014-01-25</td>\n",
       "      <td>4.7</td>\n",
       "      <td>1.10</td>\n",
       "      <td>2014-06-17</td>\n",
       "      <td>iPhone</td>\n",
       "      <td>15.4</td>\n",
       "      <td>True</td>\n",
       "      <td>46.2</td>\n",
       "      <td>3.67</td>\n",
       "      <td>5.0</td>\n",
       "    </tr>\n",
       "    <tr>\n",
       "      <th>1</th>\n",
       "      <td>Astapor</td>\n",
       "      <td>0</td>\n",
       "      <td>2014-01-29</td>\n",
       "      <td>5.0</td>\n",
       "      <td>1.00</td>\n",
       "      <td>2014-05-05</td>\n",
       "      <td>Android</td>\n",
       "      <td>0.0</td>\n",
       "      <td>False</td>\n",
       "      <td>50.0</td>\n",
       "      <td>8.26</td>\n",
       "      <td>5.0</td>\n",
       "    </tr>\n",
       "    <tr>\n",
       "      <th>2</th>\n",
       "      <td>Astapor</td>\n",
       "      <td>3</td>\n",
       "      <td>2014-01-06</td>\n",
       "      <td>4.3</td>\n",
       "      <td>1.00</td>\n",
       "      <td>2014-01-07</td>\n",
       "      <td>iPhone</td>\n",
       "      <td>0.0</td>\n",
       "      <td>False</td>\n",
       "      <td>100.0</td>\n",
       "      <td>0.77</td>\n",
       "      <td>5.0</td>\n",
       "    </tr>\n",
       "    <tr>\n",
       "      <th>3</th>\n",
       "      <td>King's Landing</td>\n",
       "      <td>9</td>\n",
       "      <td>2014-01-10</td>\n",
       "      <td>4.6</td>\n",
       "      <td>1.14</td>\n",
       "      <td>2014-06-29</td>\n",
       "      <td>iPhone</td>\n",
       "      <td>20.0</td>\n",
       "      <td>True</td>\n",
       "      <td>80.0</td>\n",
       "      <td>2.36</td>\n",
       "      <td>4.9</td>\n",
       "    </tr>\n",
       "    <tr>\n",
       "      <th>4</th>\n",
       "      <td>Winterfell</td>\n",
       "      <td>14</td>\n",
       "      <td>2014-01-27</td>\n",
       "      <td>4.4</td>\n",
       "      <td>1.19</td>\n",
       "      <td>2014-03-15</td>\n",
       "      <td>Android</td>\n",
       "      <td>11.8</td>\n",
       "      <td>False</td>\n",
       "      <td>82.4</td>\n",
       "      <td>3.13</td>\n",
       "      <td>4.9</td>\n",
       "    </tr>\n",
       "  </tbody>\n",
       "</table>\n",
       "</div>"
      ],
      "text/plain": [
       "             city  trips_in_first_30_days signup_date  avg_rating_of_driver  \\\n",
       "0  King's Landing                       4  2014-01-25                   4.7   \n",
       "1         Astapor                       0  2014-01-29                   5.0   \n",
       "2         Astapor                       3  2014-01-06                   4.3   \n",
       "3  King's Landing                       9  2014-01-10                   4.6   \n",
       "4      Winterfell                      14  2014-01-27                   4.4   \n",
       "\n",
       "   avg_surge last_trip_date    phone  surge_pct  ultimate_black_user  \\\n",
       "0       1.10     2014-06-17   iPhone       15.4                 True   \n",
       "1       1.00     2014-05-05  Android        0.0                False   \n",
       "2       1.00     2014-01-07   iPhone        0.0                False   \n",
       "3       1.14     2014-06-29   iPhone       20.0                 True   \n",
       "4       1.19     2014-03-15  Android       11.8                False   \n",
       "\n",
       "   weekday_pct  avg_dist  avg_rating_by_driver  \n",
       "0         46.2      3.67                   5.0  \n",
       "1         50.0      8.26                   5.0  \n",
       "2        100.0      0.77                   5.0  \n",
       "3         80.0      2.36                   4.9  \n",
       "4         82.4      3.13                   4.9  "
      ]
     },
     "execution_count": 26,
     "metadata": {},
     "output_type": "execute_result"
    }
   ],
   "source": [
    "df.head()"
   ]
  },
  {
   "cell_type": "markdown",
   "metadata": {},
   "source": [
    "How did signup trends vary over the month?"
   ]
  },
  {
   "cell_type": "code",
   "execution_count": 27,
   "metadata": {},
   "outputs": [
    {
     "data": {
      "text/plain": [
       "<AxesSubplot:>"
      ]
     },
     "execution_count": 27,
     "metadata": {},
     "output_type": "execute_result"
    },
    {
     "data": {
      "image/png": "[encoded data removed]",
      "text/plain": [
       "<Figure size 432x288 with 1 Axes>"
      ]
     },
     "metadata": {
      "needs_background": "light"
     },
     "output_type": "display_data"
    }
   ],
   "source": [
    "df['signup_date'].value_counts().sort_index().plot()"
   ]
  },
  {
   "cell_type": "code",
   "execution_count": 28,
   "metadata": {},
   "outputs": [],
   "source": [
    "def Retained(x):\n",
    "    if x == 0:\n",
    "        return 0\n",
    "    else: \n",
    "        return 1"
   ]
  },
  {
   "cell_type": "code",
   "execution_count": 29,
   "metadata": {},
   "outputs": [],
   "source": [
    "df['retained'] = df['trips_in_first_30_days'].apply(Retained)"
   ]
  },
  {
   "cell_type": "code",
   "execution_count": 30,
   "metadata": {},
   "outputs": [
    {
     "data": {
      "text/plain": [
       "1    34610\n",
       "0    15390\n",
       "Name: retained, dtype: int64"
      ]
     },
     "execution_count": 30,
     "metadata": {},
     "output_type": "execute_result"
    }
   ],
   "source": [
    "df['retained'].value_counts()"
   ]
  },
  {
   "cell_type": "code",
   "execution_count": 31,
   "metadata": {},
   "outputs": [
    {
     "data": {
      "text/plain": [
       "0.6922"
      ]
     },
     "execution_count": 31,
     "metadata": {},
     "output_type": "execute_result"
    }
   ],
   "source": [
    "len(df[df['retained']==1])/(len(df[df['retained']==1])+len(df[df['retained']==0]))"
   ]
  },
  {
   "cell_type": "markdown",
   "metadata": {},
   "source": [
    "69% of users were retained by the exercise definition."
   ]
  },
  {
   "cell_type": "code",
   "execution_count": 32,
   "metadata": {},
   "outputs": [
    {
     "data": {
      "text/html": [
       "<div>\n",
       "<style scoped>\n",
       "    .dataframe tbody tr th:only-of-type {\n",
       "        vertical-align: middle;\n",
       "    }\n",
       "\n",
       "    .dataframe tbody tr th {\n",
       "        vertical-align: top;\n",
       "    }\n",
       "\n",
       "    .dataframe thead th {\n",
       "        text-align: right;\n",
       "    }\n",
       "</style>\n",
       "<table border=\"1\" class=\"dataframe\">\n",
       "  <thead>\n",
       "    <tr style=\"text-align: right;\">\n",
       "      <th></th>\n",
       "      <th>min</th>\n",
       "      <th>max</th>\n",
       "    </tr>\n",
       "  </thead>\n",
       "  <tbody>\n",
       "    <tr>\n",
       "      <th>city</th>\n",
       "      <td>Astapor</td>\n",
       "      <td>Winterfell</td>\n",
       "    </tr>\n",
       "    <tr>\n",
       "      <th>trips_in_first_30_days</th>\n",
       "      <td>0</td>\n",
       "      <td>125</td>\n",
       "    </tr>\n",
       "    <tr>\n",
       "      <th>signup_date</th>\n",
       "      <td>2014-01-01</td>\n",
       "      <td>2014-01-31</td>\n",
       "    </tr>\n",
       "    <tr>\n",
       "      <th>avg_rating_of_driver</th>\n",
       "      <td>1</td>\n",
       "      <td>5</td>\n",
       "    </tr>\n",
       "    <tr>\n",
       "      <th>avg_surge</th>\n",
       "      <td>1</td>\n",
       "      <td>8</td>\n",
       "    </tr>\n",
       "    <tr>\n",
       "      <th>last_trip_date</th>\n",
       "      <td>2014-01-01</td>\n",
       "      <td>2014-07-01</td>\n",
       "    </tr>\n",
       "    <tr>\n",
       "      <th>surge_pct</th>\n",
       "      <td>0</td>\n",
       "      <td>100</td>\n",
       "    </tr>\n",
       "    <tr>\n",
       "      <th>ultimate_black_user</th>\n",
       "      <td>False</td>\n",
       "      <td>True</td>\n",
       "    </tr>\n",
       "    <tr>\n",
       "      <th>weekday_pct</th>\n",
       "      <td>0</td>\n",
       "      <td>100</td>\n",
       "    </tr>\n",
       "    <tr>\n",
       "      <th>avg_dist</th>\n",
       "      <td>0</td>\n",
       "      <td>160.96</td>\n",
       "    </tr>\n",
       "    <tr>\n",
       "      <th>avg_rating_by_driver</th>\n",
       "      <td>1</td>\n",
       "      <td>5</td>\n",
       "    </tr>\n",
       "    <tr>\n",
       "      <th>retained</th>\n",
       "      <td>0</td>\n",
       "      <td>1</td>\n",
       "    </tr>\n",
       "  </tbody>\n",
       "</table>\n",
       "</div>"
      ],
      "text/plain": [
       "                               min         max\n",
       "city                       Astapor  Winterfell\n",
       "trips_in_first_30_days           0         125\n",
       "signup_date             2014-01-01  2014-01-31\n",
       "avg_rating_of_driver             1           5\n",
       "avg_surge                        1           8\n",
       "last_trip_date          2014-01-01  2014-07-01\n",
       "surge_pct                        0         100\n",
       "ultimate_black_user          False        True\n",
       "weekday_pct                      0         100\n",
       "avg_dist                         0      160.96\n",
       "avg_rating_by_driver             1           5\n",
       "retained                         0           1"
      ]
     },
     "execution_count": 32,
     "metadata": {},
     "output_type": "execute_result"
    }
   ],
   "source": [
    "df.aggregate(['min', 'max']).T"
   ]
  },
  {
   "cell_type": "code",
   "execution_count": 33,
   "metadata": {},
   "outputs": [
    {
     "data": {
      "text/plain": [
       "(array([3.690e+04, 6.350e+03, 2.750e+03, 1.408e+03, 8.200e+02, 5.220e+02,\n",
       "        3.150e+02, 2.630e+02, 1.930e+02, 1.200e+02, 7.400e+01, 7.800e+01,\n",
       "        6.700e+01, 3.000e+01, 2.100e+01, 1.700e+01, 1.300e+01, 1.200e+01,\n",
       "        7.000e+00, 6.000e+00, 7.000e+00, 5.000e+00, 3.000e+00, 4.000e+00,\n",
       "        2.000e+00, 4.000e+00, 4.000e+00, 1.000e+00, 0.000e+00, 0.000e+00,\n",
       "        1.000e+00, 0.000e+00, 0.000e+00, 0.000e+00, 1.000e+00, 1.000e+00,\n",
       "        0.000e+00, 0.000e+00, 0.000e+00, 0.000e+00, 0.000e+00, 0.000e+00,\n",
       "        0.000e+00, 0.000e+00, 0.000e+00, 0.000e+00, 0.000e+00, 0.000e+00,\n",
       "        0.000e+00, 0.000e+00, 0.000e+00, 0.000e+00, 0.000e+00, 0.000e+00,\n",
       "        0.000e+00, 0.000e+00, 0.000e+00, 0.000e+00, 0.000e+00, 1.000e+00]),\n",
       " array([  0.        ,   2.08333333,   4.16666667,   6.25      ,\n",
       "          8.33333333,  10.41666667,  12.5       ,  14.58333333,\n",
       "         16.66666667,  18.75      ,  20.83333333,  22.91666667,\n",
       "         25.        ,  27.08333333,  29.16666667,  31.25      ,\n",
       "         33.33333333,  35.41666667,  37.5       ,  39.58333333,\n",
       "         41.66666667,  43.75      ,  45.83333333,  47.91666667,\n",
       "         50.        ,  52.08333333,  54.16666667,  56.25      ,\n",
       "         58.33333333,  60.41666667,  62.5       ,  64.58333333,\n",
       "         66.66666667,  68.75      ,  70.83333333,  72.91666667,\n",
       "         75.        ,  77.08333333,  79.16666667,  81.25      ,\n",
       "         83.33333333,  85.41666667,  87.5       ,  89.58333333,\n",
       "         91.66666667,  93.75      ,  95.83333333,  97.91666667,\n",
       "        100.        , 102.08333333, 104.16666667, 106.25      ,\n",
       "        108.33333333, 110.41666667, 112.5       , 114.58333333,\n",
       "        116.66666667, 118.75      , 120.83333333, 122.91666667,\n",
       "        125.        ]),\n",
       " <BarContainer object of 60 artists>)"
      ]
     },
     "execution_count": 33,
     "metadata": {},
     "output_type": "execute_result"
    },
    {
     "data": {
      "image/png": "[encoded data removed]",
      "text/plain": [
       "<Figure size 432x288 with 1 Axes>"
      ]
     },
     "metadata": {
      "needs_background": "light"
     },
     "output_type": "display_data"
    }
   ],
   "source": [
    "plt.hist(df['trips_in_first_30_days'], bins = 60)"
   ]
  },
  {
   "cell_type": "code",
   "execution_count": 34,
   "metadata": {},
   "outputs": [
    {
     "data": {
      "text/plain": [
       "0      15390\n",
       "1      14108\n",
       "2       7402\n",
       "3       3788\n",
       "4       2562\n",
       "5       1616\n",
       "6       1134\n",
       "7        819\n",
       "8        589\n",
       "9        471\n",
       "10       349\n",
       "11       301\n",
       "12       221\n",
       "13       168\n",
       "15       155\n",
       "14       147\n",
       "17       113\n",
       "16       108\n",
       "18        80\n",
       "19        69\n",
       "20        51\n",
       "23        45\n",
       "21        40\n",
       "22        34\n",
       "24        33\n",
       "27        28\n",
       "28        21\n",
       "25        20\n",
       "26        19\n",
       "30        15\n",
       "34        11\n",
       "29         9\n",
       "33         9\n",
       "37         9\n",
       "32         8\n",
       "31         6\n",
       "44         5\n",
       "40         5\n",
       "38         4\n",
       "43         4\n",
       "47         3\n",
       "42         3\n",
       "36         3\n",
       "39         3\n",
       "53         2\n",
       "55         2\n",
       "56         2\n",
       "54         2\n",
       "48         2\n",
       "49         2\n",
       "35         2\n",
       "125        1\n",
       "73         1\n",
       "58         1\n",
       "71         1\n",
       "41         1\n",
       "50         1\n",
       "51         1\n",
       "63         1\n",
       "Name: trips_in_first_30_days, dtype: int64"
      ]
     },
     "execution_count": 34,
     "metadata": {},
     "output_type": "execute_result"
    }
   ],
   "source": [
    "df['trips_in_first_30_days'].value_counts()"
   ]
  },
  {
   "cell_type": "code",
   "execution_count": 35,
   "metadata": {},
   "outputs": [
    {
     "name": "stdout",
     "output_type": "stream",
     "text": [
      "['city', 'trips_in_first_30_days', 'signup_date', 'avg_rating_of_driver', 'avg_surge', 'last_trip_date', 'phone', 'surge_pct', 'ultimate_black_user', 'weekday_pct', 'avg_dist', 'avg_rating_by_driver', 'retained']\n"
     ]
    }
   ],
   "source": [
    "column_names = [i for i in df.columns]\n",
    "print(column_names)"
   ]
  },
  {
   "cell_type": "code",
   "execution_count": 36,
   "metadata": {},
   "outputs": [
    {
     "name": "stdout",
     "output_type": "stream",
     "text": [
      "city\n",
      "False\n",
      "trips_in_first_30_days\n",
      "False\n",
      "signup_date\n",
      "False\n",
      "avg_rating_of_driver\n",
      "True\n",
      "avg_surge\n",
      "False\n",
      "last_trip_date\n",
      "False\n",
      "phone\n",
      "True\n",
      "surge_pct\n",
      "False\n",
      "ultimate_black_user\n",
      "False\n",
      "weekday_pct\n",
      "False\n",
      "avg_dist\n",
      "False\n",
      "avg_rating_by_driver\n",
      "True\n",
      "retained\n",
      "False\n"
     ]
    }
   ],
   "source": [
    "for i in column_names:\n",
    "    print(i), print(df[i].isnull().values.any())"
   ]
  },
  {
   "cell_type": "code",
   "execution_count": 37,
   "metadata": {},
   "outputs": [
    {
     "data": {
      "text/html": [
       "<div>\n",
       "<style scoped>\n",
       "    .dataframe tbody tr th:only-of-type {\n",
       "        vertical-align: middle;\n",
       "    }\n",
       "\n",
       "    .dataframe tbody tr th {\n",
       "        vertical-align: top;\n",
       "    }\n",
       "\n",
       "    .dataframe thead th {\n",
       "        text-align: right;\n",
       "    }\n",
       "</style>\n",
       "<table border=\"1\" class=\"dataframe\">\n",
       "  <thead>\n",
       "    <tr style=\"text-align: right;\">\n",
       "      <th></th>\n",
       "      <th>percent</th>\n",
       "    </tr>\n",
       "  </thead>\n",
       "  <tbody>\n",
       "    <tr>\n",
       "      <th>avg_rating_of_driver</th>\n",
       "      <td>0.16244</td>\n",
       "    </tr>\n",
       "    <tr>\n",
       "      <th>phone</th>\n",
       "      <td>0.00792</td>\n",
       "    </tr>\n",
       "    <tr>\n",
       "      <th>avg_rating_by_driver</th>\n",
       "      <td>0.00402</td>\n",
       "    </tr>\n",
       "  </tbody>\n",
       "</table>\n",
       "</div>"
      ],
      "text/plain": [
       "                      percent\n",
       "avg_rating_of_driver  0.16244\n",
       "phone                 0.00792\n",
       "avg_rating_by_driver  0.00402"
      ]
     },
     "execution_count": 37,
     "metadata": {},
     "output_type": "execute_result"
    }
   ],
   "source": [
    "nas=pd.DataFrame(df.isnull().sum().sort_values(ascending=False)/len(df),columns = ['percent'])\n",
    "pos = nas['percent'] > 0\n",
    "nas[pos]"
   ]
  },
  {
   "cell_type": "markdown",
   "metadata": {},
   "source": [
    "The only columns that have blanks are avg rating of driver and avg_rating_by_driver.  I'm going to replace the nulls with the average of all the other ratings in the dataset.  "
   ]
  },
  {
   "cell_type": "code",
   "execution_count": 38,
   "metadata": {},
   "outputs": [],
   "source": [
    "df['avg_rating_of_driver'].fillna((df['avg_rating_of_driver'].mean()), inplace=True)"
   ]
  },
  {
   "cell_type": "code",
   "execution_count": 39,
   "metadata": {},
   "outputs": [],
   "source": [
    "df['avg_rating_by_driver'].fillna((df['avg_rating_by_driver'].mean()), inplace=True)"
   ]
  },
  {
   "cell_type": "code",
   "execution_count": 40,
   "metadata": {},
   "outputs": [
    {
     "data": {
      "text/html": [
       "<div>\n",
       "<style scoped>\n",
       "    .dataframe tbody tr th:only-of-type {\n",
       "        vertical-align: middle;\n",
       "    }\n",
       "\n",
       "    .dataframe tbody tr th {\n",
       "        vertical-align: top;\n",
       "    }\n",
       "\n",
       "    .dataframe thead th {\n",
       "        text-align: right;\n",
       "    }\n",
       "</style>\n",
       "<table border=\"1\" class=\"dataframe\">\n",
       "  <thead>\n",
       "    <tr style=\"text-align: right;\">\n",
       "      <th></th>\n",
       "      <th>percent</th>\n",
       "    </tr>\n",
       "  </thead>\n",
       "  <tbody>\n",
       "    <tr>\n",
       "      <th>phone</th>\n",
       "      <td>0.00792</td>\n",
       "    </tr>\n",
       "  </tbody>\n",
       "</table>\n",
       "</div>"
      ],
      "text/plain": [
       "       percent\n",
       "phone  0.00792"
      ]
     },
     "execution_count": 40,
     "metadata": {},
     "output_type": "execute_result"
    }
   ],
   "source": [
    "nas=pd.DataFrame(df.isnull().sum().sort_values(ascending=False)/len(df),columns = ['percent'])\n",
    "pos = nas['percent'] > 0\n",
    "nas[pos]"
   ]
  },
  {
   "cell_type": "code",
   "execution_count": 41,
   "metadata": {},
   "outputs": [],
   "source": [
    "df = df[df['phone'].notna()]"
   ]
  },
  {
   "cell_type": "code",
   "execution_count": 42,
   "metadata": {},
   "outputs": [
    {
     "data": {
      "text/plain": [
       "49604"
      ]
     },
     "execution_count": 42,
     "metadata": {},
     "output_type": "execute_result"
    }
   ],
   "source": [
    "len(df)"
   ]
  },
  {
   "cell_type": "markdown",
   "metadata": {},
   "source": [
    "# 3.2"
   ]
  },
  {
   "cell_type": "code",
   "execution_count": 43,
   "metadata": {},
   "outputs": [
    {
     "data": {
      "text/html": [
       "<div>\n",
       "<style scoped>\n",
       "    .dataframe tbody tr th:only-of-type {\n",
       "        vertical-align: middle;\n",
       "    }\n",
       "\n",
       "    .dataframe tbody tr th {\n",
       "        vertical-align: top;\n",
       "    }\n",
       "\n",
       "    .dataframe thead th {\n",
       "        text-align: right;\n",
       "    }\n",
       "</style>\n",
       "<table border=\"1\" class=\"dataframe\">\n",
       "  <thead>\n",
       "    <tr style=\"text-align: right;\">\n",
       "      <th></th>\n",
       "      <th>city</th>\n",
       "      <th>trips_in_first_30_days</th>\n",
       "      <th>signup_date</th>\n",
       "      <th>avg_rating_of_driver</th>\n",
       "      <th>avg_surge</th>\n",
       "      <th>last_trip_date</th>\n",
       "      <th>phone</th>\n",
       "      <th>surge_pct</th>\n",
       "      <th>ultimate_black_user</th>\n",
       "      <th>weekday_pct</th>\n",
       "      <th>avg_dist</th>\n",
       "      <th>avg_rating_by_driver</th>\n",
       "      <th>retained</th>\n",
       "    </tr>\n",
       "  </thead>\n",
       "  <tbody>\n",
       "    <tr>\n",
       "      <th>0</th>\n",
       "      <td>King's Landing</td>\n",
       "      <td>4</td>\n",
       "      <td>2014-01-25</td>\n",
       "      <td>4.7</td>\n",
       "      <td>1.10</td>\n",
       "      <td>2014-06-17</td>\n",
       "      <td>iPhone</td>\n",
       "      <td>15.4</td>\n",
       "      <td>True</td>\n",
       "      <td>46.2</td>\n",
       "      <td>3.67</td>\n",
       "      <td>5.0</td>\n",
       "      <td>1</td>\n",
       "    </tr>\n",
       "    <tr>\n",
       "      <th>1</th>\n",
       "      <td>Astapor</td>\n",
       "      <td>0</td>\n",
       "      <td>2014-01-29</td>\n",
       "      <td>5.0</td>\n",
       "      <td>1.00</td>\n",
       "      <td>2014-05-05</td>\n",
       "      <td>Android</td>\n",
       "      <td>0.0</td>\n",
       "      <td>False</td>\n",
       "      <td>50.0</td>\n",
       "      <td>8.26</td>\n",
       "      <td>5.0</td>\n",
       "      <td>0</td>\n",
       "    </tr>\n",
       "    <tr>\n",
       "      <th>2</th>\n",
       "      <td>Astapor</td>\n",
       "      <td>3</td>\n",
       "      <td>2014-01-06</td>\n",
       "      <td>4.3</td>\n",
       "      <td>1.00</td>\n",
       "      <td>2014-01-07</td>\n",
       "      <td>iPhone</td>\n",
       "      <td>0.0</td>\n",
       "      <td>False</td>\n",
       "      <td>100.0</td>\n",
       "      <td>0.77</td>\n",
       "      <td>5.0</td>\n",
       "      <td>1</td>\n",
       "    </tr>\n",
       "    <tr>\n",
       "      <th>3</th>\n",
       "      <td>King's Landing</td>\n",
       "      <td>9</td>\n",
       "      <td>2014-01-10</td>\n",
       "      <td>4.6</td>\n",
       "      <td>1.14</td>\n",
       "      <td>2014-06-29</td>\n",
       "      <td>iPhone</td>\n",
       "      <td>20.0</td>\n",
       "      <td>True</td>\n",
       "      <td>80.0</td>\n",
       "      <td>2.36</td>\n",
       "      <td>4.9</td>\n",
       "      <td>1</td>\n",
       "    </tr>\n",
       "    <tr>\n",
       "      <th>4</th>\n",
       "      <td>Winterfell</td>\n",
       "      <td>14</td>\n",
       "      <td>2014-01-27</td>\n",
       "      <td>4.4</td>\n",
       "      <td>1.19</td>\n",
       "      <td>2014-03-15</td>\n",
       "      <td>Android</td>\n",
       "      <td>11.8</td>\n",
       "      <td>False</td>\n",
       "      <td>82.4</td>\n",
       "      <td>3.13</td>\n",
       "      <td>4.9</td>\n",
       "      <td>1</td>\n",
       "    </tr>\n",
       "  </tbody>\n",
       "</table>\n",
       "</div>"
      ],
      "text/plain": [
       "             city  trips_in_first_30_days signup_date  avg_rating_of_driver  \\\n",
       "0  King's Landing                       4  2014-01-25                   4.7   \n",
       "1         Astapor                       0  2014-01-29                   5.0   \n",
       "2         Astapor                       3  2014-01-06                   4.3   \n",
       "3  King's Landing                       9  2014-01-10                   4.6   \n",
       "4      Winterfell                      14  2014-01-27                   4.4   \n",
       "\n",
       "   avg_surge last_trip_date    phone  surge_pct  ultimate_black_user  \\\n",
       "0       1.10     2014-06-17   iPhone       15.4                 True   \n",
       "1       1.00     2014-05-05  Android        0.0                False   \n",
       "2       1.00     2014-01-07   iPhone        0.0                False   \n",
       "3       1.14     2014-06-29   iPhone       20.0                 True   \n",
       "4       1.19     2014-03-15  Android       11.8                False   \n",
       "\n",
       "   weekday_pct  avg_dist  avg_rating_by_driver  retained  \n",
       "0         46.2      3.67                   5.0         1  \n",
       "1         50.0      8.26                   5.0         0  \n",
       "2        100.0      0.77                   5.0         1  \n",
       "3         80.0      2.36                   4.9         1  \n",
       "4         82.4      3.13                   4.9         1  "
      ]
     },
     "execution_count": 43,
     "metadata": {},
     "output_type": "execute_result"
    }
   ],
   "source": [
    "df.head()"
   ]
  },
  {
   "cell_type": "code",
   "execution_count": 44,
   "metadata": {},
   "outputs": [
    {
     "data": {
      "text/plain": [
       "city                       object\n",
       "trips_in_first_30_days      int64\n",
       "signup_date                object\n",
       "avg_rating_of_driver      float64\n",
       "avg_surge                 float64\n",
       "last_trip_date             object\n",
       "phone                      object\n",
       "surge_pct                 float64\n",
       "ultimate_black_user          bool\n",
       "weekday_pct               float64\n",
       "avg_dist                  float64\n",
       "avg_rating_by_driver      float64\n",
       "retained                    int64\n",
       "dtype: object"
      ]
     },
     "execution_count": 44,
     "metadata": {},
     "output_type": "execute_result"
    }
   ],
   "source": [
    "df.dtypes"
   ]
  },
  {
   "cell_type": "code",
   "execution_count": 45,
   "metadata": {},
   "outputs": [],
   "source": [
    "def active_6th_month(x):\n",
    "    datee = datetime.datetime.strptime(x, \"%Y-%m-%d\")\n",
    "    month = datee.month\n",
    "    if month == 6:\n",
    "        return 1\n",
    "    else:\n",
    "        return 0"
   ]
  },
  {
   "cell_type": "code",
   "execution_count": 46,
   "metadata": {},
   "outputs": [],
   "source": [
    "df['6th_month'] = df['last_trip_date'].apply(active_6th_month)"
   ]
  },
  {
   "cell_type": "code",
   "execution_count": 47,
   "metadata": {},
   "outputs": [
    {
     "data": {
      "text/html": [
       "<div>\n",
       "<style scoped>\n",
       "    .dataframe tbody tr th:only-of-type {\n",
       "        vertical-align: middle;\n",
       "    }\n",
       "\n",
       "    .dataframe tbody tr th {\n",
       "        vertical-align: top;\n",
       "    }\n",
       "\n",
       "    .dataframe thead th {\n",
       "        text-align: right;\n",
       "    }\n",
       "</style>\n",
       "<table border=\"1\" class=\"dataframe\">\n",
       "  <thead>\n",
       "    <tr style=\"text-align: right;\">\n",
       "      <th></th>\n",
       "      <th>city</th>\n",
       "      <th>trips_in_first_30_days</th>\n",
       "      <th>signup_date</th>\n",
       "      <th>avg_rating_of_driver</th>\n",
       "      <th>avg_surge</th>\n",
       "      <th>last_trip_date</th>\n",
       "      <th>phone</th>\n",
       "      <th>surge_pct</th>\n",
       "      <th>ultimate_black_user</th>\n",
       "      <th>weekday_pct</th>\n",
       "      <th>avg_dist</th>\n",
       "      <th>avg_rating_by_driver</th>\n",
       "      <th>retained</th>\n",
       "      <th>6th_month</th>\n",
       "    </tr>\n",
       "  </thead>\n",
       "  <tbody>\n",
       "    <tr>\n",
       "      <th>0</th>\n",
       "      <td>King's Landing</td>\n",
       "      <td>4</td>\n",
       "      <td>2014-01-25</td>\n",
       "      <td>4.7</td>\n",
       "      <td>1.10</td>\n",
       "      <td>2014-06-17</td>\n",
       "      <td>iPhone</td>\n",
       "      <td>15.4</td>\n",
       "      <td>True</td>\n",
       "      <td>46.2</td>\n",
       "      <td>3.67</td>\n",
       "      <td>5.0</td>\n",
       "      <td>1</td>\n",
       "      <td>1</td>\n",
       "    </tr>\n",
       "    <tr>\n",
       "      <th>1</th>\n",
       "      <td>Astapor</td>\n",
       "      <td>0</td>\n",
       "      <td>2014-01-29</td>\n",
       "      <td>5.0</td>\n",
       "      <td>1.00</td>\n",
       "      <td>2014-05-05</td>\n",
       "      <td>Android</td>\n",
       "      <td>0.0</td>\n",
       "      <td>False</td>\n",
       "      <td>50.0</td>\n",
       "      <td>8.26</td>\n",
       "      <td>5.0</td>\n",
       "      <td>0</td>\n",
       "      <td>0</td>\n",
       "    </tr>\n",
       "    <tr>\n",
       "      <th>2</th>\n",
       "      <td>Astapor</td>\n",
       "      <td>3</td>\n",
       "      <td>2014-01-06</td>\n",
       "      <td>4.3</td>\n",
       "      <td>1.00</td>\n",
       "      <td>2014-01-07</td>\n",
       "      <td>iPhone</td>\n",
       "      <td>0.0</td>\n",
       "      <td>False</td>\n",
       "      <td>100.0</td>\n",
       "      <td>0.77</td>\n",
       "      <td>5.0</td>\n",
       "      <td>1</td>\n",
       "      <td>0</td>\n",
       "    </tr>\n",
       "    <tr>\n",
       "      <th>3</th>\n",
       "      <td>King's Landing</td>\n",
       "      <td>9</td>\n",
       "      <td>2014-01-10</td>\n",
       "      <td>4.6</td>\n",
       "      <td>1.14</td>\n",
       "      <td>2014-06-29</td>\n",
       "      <td>iPhone</td>\n",
       "      <td>20.0</td>\n",
       "      <td>True</td>\n",
       "      <td>80.0</td>\n",
       "      <td>2.36</td>\n",
       "      <td>4.9</td>\n",
       "      <td>1</td>\n",
       "      <td>1</td>\n",
       "    </tr>\n",
       "    <tr>\n",
       "      <th>4</th>\n",
       "      <td>Winterfell</td>\n",
       "      <td>14</td>\n",
       "      <td>2014-01-27</td>\n",
       "      <td>4.4</td>\n",
       "      <td>1.19</td>\n",
       "      <td>2014-03-15</td>\n",
       "      <td>Android</td>\n",
       "      <td>11.8</td>\n",
       "      <td>False</td>\n",
       "      <td>82.4</td>\n",
       "      <td>3.13</td>\n",
       "      <td>4.9</td>\n",
       "      <td>1</td>\n",
       "      <td>0</td>\n",
       "    </tr>\n",
       "  </tbody>\n",
       "</table>\n",
       "</div>"
      ],
      "text/plain": [
       "             city  trips_in_first_30_days signup_date  avg_rating_of_driver  \\\n",
       "0  King's Landing                       4  2014-01-25                   4.7   \n",
       "1         Astapor                       0  2014-01-29                   5.0   \n",
       "2         Astapor                       3  2014-01-06                   4.3   \n",
       "3  King's Landing                       9  2014-01-10                   4.6   \n",
       "4      Winterfell                      14  2014-01-27                   4.4   \n",
       "\n",
       "   avg_surge last_trip_date    phone  surge_pct  ultimate_black_user  \\\n",
       "0       1.10     2014-06-17   iPhone       15.4                 True   \n",
       "1       1.00     2014-05-05  Android        0.0                False   \n",
       "2       1.00     2014-01-07   iPhone        0.0                False   \n",
       "3       1.14     2014-06-29   iPhone       20.0                 True   \n",
       "4       1.19     2014-03-15  Android       11.8                False   \n",
       "\n",
       "   weekday_pct  avg_dist  avg_rating_by_driver  retained  6th_month  \n",
       "0         46.2      3.67                   5.0         1          1  \n",
       "1         50.0      8.26                   5.0         0          0  \n",
       "2        100.0      0.77                   5.0         1          0  \n",
       "3         80.0      2.36                   4.9         1          1  \n",
       "4         82.4      3.13                   4.9         1          0  "
      ]
     },
     "execution_count": 47,
     "metadata": {},
     "output_type": "execute_result"
    }
   ],
   "source": [
    "df.head()"
   ]
  },
  {
   "cell_type": "code",
   "execution_count": 48,
   "metadata": {},
   "outputs": [
    {
     "data": {
      "text/plain": [
       "0    31478\n",
       "1    18126\n",
       "Name: 6th_month, dtype: int64"
      ]
     },
     "execution_count": 48,
     "metadata": {},
     "output_type": "execute_result"
    }
   ],
   "source": [
    "df['6th_month'].value_counts()"
   ]
  },
  {
   "cell_type": "markdown",
   "metadata": {},
   "source": [
    "I don't need the retained column anymore."
   ]
  },
  {
   "cell_type": "code",
   "execution_count": 49,
   "metadata": {},
   "outputs": [],
   "source": [
    "df = df.drop(['retained'], axis=1)"
   ]
  },
  {
   "cell_type": "code",
   "execution_count": 50,
   "metadata": {
    "scrolled": true
   },
   "outputs": [
    {
     "data": {
      "text/html": [
       "<div>\n",
       "<style scoped>\n",
       "    .dataframe tbody tr th:only-of-type {\n",
       "        vertical-align: middle;\n",
       "    }\n",
       "\n",
       "    .dataframe tbody tr th {\n",
       "        vertical-align: top;\n",
       "    }\n",
       "\n",
       "    .dataframe thead th {\n",
       "        text-align: right;\n",
       "    }\n",
       "</style>\n",
       "<table border=\"1\" class=\"dataframe\">\n",
       "  <thead>\n",
       "    <tr style=\"text-align: right;\">\n",
       "      <th></th>\n",
       "      <th>city</th>\n",
       "      <th>trips_in_first_30_days</th>\n",
       "      <th>signup_date</th>\n",
       "      <th>avg_rating_of_driver</th>\n",
       "      <th>avg_surge</th>\n",
       "      <th>last_trip_date</th>\n",
       "      <th>phone</th>\n",
       "      <th>surge_pct</th>\n",
       "      <th>ultimate_black_user</th>\n",
       "      <th>weekday_pct</th>\n",
       "      <th>avg_dist</th>\n",
       "      <th>avg_rating_by_driver</th>\n",
       "      <th>6th_month</th>\n",
       "    </tr>\n",
       "  </thead>\n",
       "  <tbody>\n",
       "    <tr>\n",
       "      <th>0</th>\n",
       "      <td>King's Landing</td>\n",
       "      <td>4</td>\n",
       "      <td>2014-01-25</td>\n",
       "      <td>4.7</td>\n",
       "      <td>1.10</td>\n",
       "      <td>2014-06-17</td>\n",
       "      <td>iPhone</td>\n",
       "      <td>15.4</td>\n",
       "      <td>True</td>\n",
       "      <td>46.2</td>\n",
       "      <td>3.67</td>\n",
       "      <td>5.0</td>\n",
       "      <td>1</td>\n",
       "    </tr>\n",
       "    <tr>\n",
       "      <th>1</th>\n",
       "      <td>Astapor</td>\n",
       "      <td>0</td>\n",
       "      <td>2014-01-29</td>\n",
       "      <td>5.0</td>\n",
       "      <td>1.00</td>\n",
       "      <td>2014-05-05</td>\n",
       "      <td>Android</td>\n",
       "      <td>0.0</td>\n",
       "      <td>False</td>\n",
       "      <td>50.0</td>\n",
       "      <td>8.26</td>\n",
       "      <td>5.0</td>\n",
       "      <td>0</td>\n",
       "    </tr>\n",
       "    <tr>\n",
       "      <th>2</th>\n",
       "      <td>Astapor</td>\n",
       "      <td>3</td>\n",
       "      <td>2014-01-06</td>\n",
       "      <td>4.3</td>\n",
       "      <td>1.00</td>\n",
       "      <td>2014-01-07</td>\n",
       "      <td>iPhone</td>\n",
       "      <td>0.0</td>\n",
       "      <td>False</td>\n",
       "      <td>100.0</td>\n",
       "      <td>0.77</td>\n",
       "      <td>5.0</td>\n",
       "      <td>0</td>\n",
       "    </tr>\n",
       "    <tr>\n",
       "      <th>3</th>\n",
       "      <td>King's Landing</td>\n",
       "      <td>9</td>\n",
       "      <td>2014-01-10</td>\n",
       "      <td>4.6</td>\n",
       "      <td>1.14</td>\n",
       "      <td>2014-06-29</td>\n",
       "      <td>iPhone</td>\n",
       "      <td>20.0</td>\n",
       "      <td>True</td>\n",
       "      <td>80.0</td>\n",
       "      <td>2.36</td>\n",
       "      <td>4.9</td>\n",
       "      <td>1</td>\n",
       "    </tr>\n",
       "    <tr>\n",
       "      <th>4</th>\n",
       "      <td>Winterfell</td>\n",
       "      <td>14</td>\n",
       "      <td>2014-01-27</td>\n",
       "      <td>4.4</td>\n",
       "      <td>1.19</td>\n",
       "      <td>2014-03-15</td>\n",
       "      <td>Android</td>\n",
       "      <td>11.8</td>\n",
       "      <td>False</td>\n",
       "      <td>82.4</td>\n",
       "      <td>3.13</td>\n",
       "      <td>4.9</td>\n",
       "      <td>0</td>\n",
       "    </tr>\n",
       "  </tbody>\n",
       "</table>\n",
       "</div>"
      ],
      "text/plain": [
       "             city  trips_in_first_30_days signup_date  avg_rating_of_driver  \\\n",
       "0  King's Landing                       4  2014-01-25                   4.7   \n",
       "1         Astapor                       0  2014-01-29                   5.0   \n",
       "2         Astapor                       3  2014-01-06                   4.3   \n",
       "3  King's Landing                       9  2014-01-10                   4.6   \n",
       "4      Winterfell                      14  2014-01-27                   4.4   \n",
       "\n",
       "   avg_surge last_trip_date    phone  surge_pct  ultimate_black_user  \\\n",
       "0       1.10     2014-06-17   iPhone       15.4                 True   \n",
       "1       1.00     2014-05-05  Android        0.0                False   \n",
       "2       1.00     2014-01-07   iPhone        0.0                False   \n",
       "3       1.14     2014-06-29   iPhone       20.0                 True   \n",
       "4       1.19     2014-03-15  Android       11.8                False   \n",
       "\n",
       "   weekday_pct  avg_dist  avg_rating_by_driver  6th_month  \n",
       "0         46.2      3.67                   5.0          1  \n",
       "1         50.0      8.26                   5.0          0  \n",
       "2        100.0      0.77                   5.0          0  \n",
       "3         80.0      2.36                   4.9          1  \n",
       "4         82.4      3.13                   4.9          0  "
      ]
     },
     "execution_count": 50,
     "metadata": {},
     "output_type": "execute_result"
    }
   ],
   "source": [
    "df.head()"
   ]
  },
  {
   "cell_type": "markdown",
   "metadata": {},
   "source": [
    "Modify dataset to create dummies for categorical objects."
   ]
  },
  {
   "cell_type": "code",
   "execution_count": 51,
   "metadata": {},
   "outputs": [
    {
     "data": {
      "text/html": [
       "<div>\n",
       "<style scoped>\n",
       "    .dataframe tbody tr th:only-of-type {\n",
       "        vertical-align: middle;\n",
       "    }\n",
       "\n",
       "    .dataframe tbody tr th {\n",
       "        vertical-align: top;\n",
       "    }\n",
       "\n",
       "    .dataframe thead th {\n",
       "        text-align: right;\n",
       "    }\n",
       "</style>\n",
       "<table border=\"1\" class=\"dataframe\">\n",
       "  <thead>\n",
       "    <tr style=\"text-align: right;\">\n",
       "      <th></th>\n",
       "      <th>trips_in_first_30_days</th>\n",
       "      <th>signup_date</th>\n",
       "      <th>avg_rating_of_driver</th>\n",
       "      <th>avg_surge</th>\n",
       "      <th>last_trip_date</th>\n",
       "      <th>surge_pct</th>\n",
       "      <th>weekday_pct</th>\n",
       "      <th>avg_dist</th>\n",
       "      <th>avg_rating_by_driver</th>\n",
       "      <th>6th_month</th>\n",
       "      <th>city_Astapor</th>\n",
       "      <th>city_King's Landing</th>\n",
       "      <th>city_Winterfell</th>\n",
       "      <th>phone_iPhone</th>\n",
       "      <th>ultimate_black_user_True</th>\n",
       "    </tr>\n",
       "  </thead>\n",
       "  <tbody>\n",
       "    <tr>\n",
       "      <th>0</th>\n",
       "      <td>4</td>\n",
       "      <td>2014-01-25</td>\n",
       "      <td>4.7</td>\n",
       "      <td>1.10</td>\n",
       "      <td>2014-06-17</td>\n",
       "      <td>15.4</td>\n",
       "      <td>46.2</td>\n",
       "      <td>3.67</td>\n",
       "      <td>5.0</td>\n",
       "      <td>1</td>\n",
       "      <td>0</td>\n",
       "      <td>1</td>\n",
       "      <td>0</td>\n",
       "      <td>1</td>\n",
       "      <td>1</td>\n",
       "    </tr>\n",
       "    <tr>\n",
       "      <th>1</th>\n",
       "      <td>0</td>\n",
       "      <td>2014-01-29</td>\n",
       "      <td>5.0</td>\n",
       "      <td>1.00</td>\n",
       "      <td>2014-05-05</td>\n",
       "      <td>0.0</td>\n",
       "      <td>50.0</td>\n",
       "      <td>8.26</td>\n",
       "      <td>5.0</td>\n",
       "      <td>0</td>\n",
       "      <td>1</td>\n",
       "      <td>0</td>\n",
       "      <td>0</td>\n",
       "      <td>0</td>\n",
       "      <td>0</td>\n",
       "    </tr>\n",
       "    <tr>\n",
       "      <th>2</th>\n",
       "      <td>3</td>\n",
       "      <td>2014-01-06</td>\n",
       "      <td>4.3</td>\n",
       "      <td>1.00</td>\n",
       "      <td>2014-01-07</td>\n",
       "      <td>0.0</td>\n",
       "      <td>100.0</td>\n",
       "      <td>0.77</td>\n",
       "      <td>5.0</td>\n",
       "      <td>0</td>\n",
       "      <td>1</td>\n",
       "      <td>0</td>\n",
       "      <td>0</td>\n",
       "      <td>1</td>\n",
       "      <td>0</td>\n",
       "    </tr>\n",
       "    <tr>\n",
       "      <th>3</th>\n",
       "      <td>9</td>\n",
       "      <td>2014-01-10</td>\n",
       "      <td>4.6</td>\n",
       "      <td>1.14</td>\n",
       "      <td>2014-06-29</td>\n",
       "      <td>20.0</td>\n",
       "      <td>80.0</td>\n",
       "      <td>2.36</td>\n",
       "      <td>4.9</td>\n",
       "      <td>1</td>\n",
       "      <td>0</td>\n",
       "      <td>1</td>\n",
       "      <td>0</td>\n",
       "      <td>1</td>\n",
       "      <td>1</td>\n",
       "    </tr>\n",
       "    <tr>\n",
       "      <th>4</th>\n",
       "      <td>14</td>\n",
       "      <td>2014-01-27</td>\n",
       "      <td>4.4</td>\n",
       "      <td>1.19</td>\n",
       "      <td>2014-03-15</td>\n",
       "      <td>11.8</td>\n",
       "      <td>82.4</td>\n",
       "      <td>3.13</td>\n",
       "      <td>4.9</td>\n",
       "      <td>0</td>\n",
       "      <td>0</td>\n",
       "      <td>0</td>\n",
       "      <td>1</td>\n",
       "      <td>0</td>\n",
       "      <td>0</td>\n",
       "    </tr>\n",
       "  </tbody>\n",
       "</table>\n",
       "</div>"
      ],
      "text/plain": [
       "   trips_in_first_30_days signup_date  avg_rating_of_driver  avg_surge  \\\n",
       "0                       4  2014-01-25                   4.7       1.10   \n",
       "1                       0  2014-01-29                   5.0       1.00   \n",
       "2                       3  2014-01-06                   4.3       1.00   \n",
       "3                       9  2014-01-10                   4.6       1.14   \n",
       "4                      14  2014-01-27                   4.4       1.19   \n",
       "\n",
       "  last_trip_date  surge_pct  weekday_pct  avg_dist  avg_rating_by_driver  \\\n",
       "0     2014-06-17       15.4         46.2      3.67                   5.0   \n",
       "1     2014-05-05        0.0         50.0      8.26                   5.0   \n",
       "2     2014-01-07        0.0        100.0      0.77                   5.0   \n",
       "3     2014-06-29       20.0         80.0      2.36                   4.9   \n",
       "4     2014-03-15       11.8         82.4      3.13                   4.9   \n",
       "\n",
       "   6th_month  city_Astapor  city_King's Landing  city_Winterfell  \\\n",
       "0          1             0                    1                0   \n",
       "1          0             1                    0                0   \n",
       "2          0             1                    0                0   \n",
       "3          1             0                    1                0   \n",
       "4          0             0                    0                1   \n",
       "\n",
       "   phone_iPhone  ultimate_black_user_True  \n",
       "0             1                         1  \n",
       "1             0                         0  \n",
       "2             1                         0  \n",
       "3             1                         1  \n",
       "4             0                         0  "
      ]
     },
     "execution_count": 51,
     "metadata": {},
     "output_type": "execute_result"
    }
   ],
   "source": [
    "df = pd.get_dummies(df, columns=['city'])\n",
    "df = pd.get_dummies(df, columns=['phone'], drop_first = True)\n",
    "df = pd.get_dummies(df, columns=['ultimate_black_user'], drop_first = True)\n",
    "\n",
    "df.head()"
   ]
  },
  {
   "cell_type": "code",
   "execution_count": 52,
   "metadata": {},
   "outputs": [
    {
     "data": {
      "text/html": [
       "<style  type=\"text/css\" >\n",
       "#T_e8d7e855_30ec_11eb_bc9f_988d469de922row0_col0,#T_e8d7e855_30ec_11eb_bc9f_988d469de922row1_col1,#T_e8d7e855_30ec_11eb_bc9f_988d469de922row2_col2,#T_e8d7e855_30ec_11eb_bc9f_988d469de922row3_col3,#T_e8d7e855_30ec_11eb_bc9f_988d469de922row4_col4,#T_e8d7e855_30ec_11eb_bc9f_988d469de922row5_col5,#T_e8d7e855_30ec_11eb_bc9f_988d469de922row6_col6,#T_e8d7e855_30ec_11eb_bc9f_988d469de922row7_col7,#T_e8d7e855_30ec_11eb_bc9f_988d469de922row8_col8,#T_e8d7e855_30ec_11eb_bc9f_988d469de922row9_col9,#T_e8d7e855_30ec_11eb_bc9f_988d469de922row10_col10,#T_e8d7e855_30ec_11eb_bc9f_988d469de922row11_col11,#T_e8d7e855_30ec_11eb_bc9f_988d469de922row12_col12{\n",
       "            background-color:  #b40426;\n",
       "            color:  #f1f1f1;\n",
       "        }#T_e8d7e855_30ec_11eb_bc9f_988d469de922row0_col1,#T_e8d7e855_30ec_11eb_bc9f_988d469de922row7_col1,#T_e8d7e855_30ec_11eb_bc9f_988d469de922row10_col2{\n",
       "            background-color:  #506bda;\n",
       "            color:  #000000;\n",
       "        }#T_e8d7e855_30ec_11eb_bc9f_988d469de922row0_col2,#T_e8d7e855_30ec_11eb_bc9f_988d469de922row1_col12,#T_e8d7e855_30ec_11eb_bc9f_988d469de922row2_col6,#T_e8d7e855_30ec_11eb_bc9f_988d469de922row7_col2,#T_e8d7e855_30ec_11eb_bc9f_988d469de922row12_col6{\n",
       "            background-color:  #5977e3;\n",
       "            color:  #000000;\n",
       "        }#T_e8d7e855_30ec_11eb_bc9f_988d469de922row0_col3,#T_e8d7e855_30ec_11eb_bc9f_988d469de922row1_col4,#T_e8d7e855_30ec_11eb_bc9f_988d469de922row1_col7,#T_e8d7e855_30ec_11eb_bc9f_988d469de922row7_col3,#T_e8d7e855_30ec_11eb_bc9f_988d469de922row11_col3,#T_e8d7e855_30ec_11eb_bc9f_988d469de922row11_col4{\n",
       "            background-color:  #6687ed;\n",
       "            color:  #000000;\n",
       "        }#T_e8d7e855_30ec_11eb_bc9f_988d469de922row0_col4,#T_e8d7e855_30ec_11eb_bc9f_988d469de922row6_col1,#T_e8d7e855_30ec_11eb_bc9f_988d469de922row8_col3,#T_e8d7e855_30ec_11eb_bc9f_988d469de922row11_col0{\n",
       "            background-color:  #7295f4;\n",
       "            color:  #000000;\n",
       "        }#T_e8d7e855_30ec_11eb_bc9f_988d469de922row0_col5,#T_e8d7e855_30ec_11eb_bc9f_988d469de922row3_col4,#T_e8d7e855_30ec_11eb_bc9f_988d469de922row3_col12,#T_e8d7e855_30ec_11eb_bc9f_988d469de922row4_col2,#T_e8d7e855_30ec_11eb_bc9f_988d469de922row4_col3,#T_e8d7e855_30ec_11eb_bc9f_988d469de922row5_col0,#T_e8d7e855_30ec_11eb_bc9f_988d469de922row8_col7,#T_e8d7e855_30ec_11eb_bc9f_988d469de922row8_col10,#T_e8d7e855_30ec_11eb_bc9f_988d469de922row8_col11,#T_e8d7e855_30ec_11eb_bc9f_988d469de922row10_col1,#T_e8d7e855_30ec_11eb_bc9f_988d469de922row10_col6,#T_e8d7e855_30ec_11eb_bc9f_988d469de922row10_col8,#T_e8d7e855_30ec_11eb_bc9f_988d469de922row10_col9{\n",
       "            background-color:  #3b4cc0;\n",
       "            color:  #f1f1f1;\n",
       "        }#T_e8d7e855_30ec_11eb_bc9f_988d469de922row0_col6,#T_e8d7e855_30ec_11eb_bc9f_988d469de922row2_col5,#T_e8d7e855_30ec_11eb_bc9f_988d469de922row10_col12{\n",
       "            background-color:  #4a63d3;\n",
       "            color:  #f1f1f1;\n",
       "        }#T_e8d7e855_30ec_11eb_bc9f_988d469de922row0_col7{\n",
       "            background-color:  #a1c0ff;\n",
       "            color:  #000000;\n",
       "        }#T_e8d7e855_30ec_11eb_bc9f_988d469de922row0_col8,#T_e8d7e855_30ec_11eb_bc9f_988d469de922row11_col9{\n",
       "            background-color:  #b3cdfb;\n",
       "            color:  #000000;\n",
       "        }#T_e8d7e855_30ec_11eb_bc9f_988d469de922row0_col9,#T_e8d7e855_30ec_11eb_bc9f_988d469de922row1_col10,#T_e8d7e855_30ec_11eb_bc9f_988d469de922row3_col9,#T_e8d7e855_30ec_11eb_bc9f_988d469de922row4_col9{\n",
       "            background-color:  #adc9fd;\n",
       "            color:  #000000;\n",
       "        }#T_e8d7e855_30ec_11eb_bc9f_988d469de922row0_col10,#T_e8d7e855_30ec_11eb_bc9f_988d469de922row2_col8{\n",
       "            background-color:  #c6d6f1;\n",
       "            color:  #000000;\n",
       "        }#T_e8d7e855_30ec_11eb_bc9f_988d469de922row0_col11,#T_e8d7e855_30ec_11eb_bc9f_988d469de922row6_col0,#T_e8d7e855_30ec_11eb_bc9f_988d469de922row9_col11{\n",
       "            background-color:  #5572df;\n",
       "            color:  #000000;\n",
       "        }#T_e8d7e855_30ec_11eb_bc9f_988d469de922row0_col12{\n",
       "            background-color:  #7a9df8;\n",
       "            color:  #000000;\n",
       "        }#T_e8d7e855_30ec_11eb_bc9f_988d469de922row1_col0,#T_e8d7e855_30ec_11eb_bc9f_988d469de922row8_col12,#T_e8d7e855_30ec_11eb_bc9f_988d469de922row9_col10{\n",
       "            background-color:  #5e7de7;\n",
       "            color:  #000000;\n",
       "        }#T_e8d7e855_30ec_11eb_bc9f_988d469de922row1_col2,#T_e8d7e855_30ec_11eb_bc9f_988d469de922row8_col5,#T_e8d7e855_30ec_11eb_bc9f_988d469de922row8_col9,#T_e8d7e855_30ec_11eb_bc9f_988d469de922row11_col6{\n",
       "            background-color:  #536edd;\n",
       "            color:  #000000;\n",
       "        }#T_e8d7e855_30ec_11eb_bc9f_988d469de922row1_col3,#T_e8d7e855_30ec_11eb_bc9f_988d469de922row3_col0,#T_e8d7e855_30ec_11eb_bc9f_988d469de922row7_col4,#T_e8d7e855_30ec_11eb_bc9f_988d469de922row9_col5{\n",
       "            background-color:  #6384eb;\n",
       "            color:  #000000;\n",
       "        }#T_e8d7e855_30ec_11eb_bc9f_988d469de922row1_col5,#T_e8d7e855_30ec_11eb_bc9f_988d469de922row9_col0,#T_e8d7e855_30ec_11eb_bc9f_988d469de922row10_col5,#T_e8d7e855_30ec_11eb_bc9f_988d469de922row12_col5{\n",
       "            background-color:  #6a8bef;\n",
       "            color:  #000000;\n",
       "        }#T_e8d7e855_30ec_11eb_bc9f_988d469de922row1_col6{\n",
       "            background-color:  #7597f6;\n",
       "            color:  #000000;\n",
       "        }#T_e8d7e855_30ec_11eb_bc9f_988d469de922row1_col8,#T_e8d7e855_30ec_11eb_bc9f_988d469de922row5_col10,#T_e8d7e855_30ec_11eb_bc9f_988d469de922row6_col8{\n",
       "            background-color:  #c5d6f2;\n",
       "            color:  #000000;\n",
       "        }#T_e8d7e855_30ec_11eb_bc9f_988d469de922row1_col9,#T_e8d7e855_30ec_11eb_bc9f_988d469de922row6_col9{\n",
       "            background-color:  #b7cff9;\n",
       "            color:  #000000;\n",
       "        }#T_e8d7e855_30ec_11eb_bc9f_988d469de922row1_col11,#T_e8d7e855_30ec_11eb_bc9f_988d469de922row5_col11,#T_e8d7e855_30ec_11eb_bc9f_988d469de922row10_col11{\n",
       "            background-color:  #3d50c3;\n",
       "            color:  #f1f1f1;\n",
       "        }#T_e8d7e855_30ec_11eb_bc9f_988d469de922row2_col0,#T_e8d7e855_30ec_11eb_bc9f_988d469de922row8_col4{\n",
       "            background-color:  #6180e9;\n",
       "            color:  #000000;\n",
       "        }#T_e8d7e855_30ec_11eb_bc9f_988d469de922row2_col1,#T_e8d7e855_30ec_11eb_bc9f_988d469de922row7_col6,#T_e8d7e855_30ec_11eb_bc9f_988d469de922row11_col1{\n",
       "            background-color:  #4e68d8;\n",
       "            color:  #000000;\n",
       "        }#T_e8d7e855_30ec_11eb_bc9f_988d469de922row2_col3{\n",
       "            background-color:  #ea7b60;\n",
       "            color:  #000000;\n",
       "        }#T_e8d7e855_30ec_11eb_bc9f_988d469de922row2_col4,#T_e8d7e855_30ec_11eb_bc9f_988d469de922row3_col5,#T_e8d7e855_30ec_11eb_bc9f_988d469de922row12_col3{\n",
       "            background-color:  #445acc;\n",
       "            color:  #f1f1f1;\n",
       "        }#T_e8d7e855_30ec_11eb_bc9f_988d469de922row2_col7,#T_e8d7e855_30ec_11eb_bc9f_988d469de922row4_col7,#T_e8d7e855_30ec_11eb_bc9f_988d469de922row6_col3,#T_e8d7e855_30ec_11eb_bc9f_988d469de922row6_col4{\n",
       "            background-color:  #688aef;\n",
       "            color:  #000000;\n",
       "        }#T_e8d7e855_30ec_11eb_bc9f_988d469de922row2_col9,#T_e8d7e855_30ec_11eb_bc9f_988d469de922row12_col7{\n",
       "            background-color:  #a3c2fe;\n",
       "            color:  #000000;\n",
       "        }#T_e8d7e855_30ec_11eb_bc9f_988d469de922row2_col10,#T_e8d7e855_30ec_11eb_bc9f_988d469de922row11_col8{\n",
       "            background-color:  #bad0f8;\n",
       "            color:  #000000;\n",
       "        }#T_e8d7e855_30ec_11eb_bc9f_988d469de922row2_col11,#T_e8d7e855_30ec_11eb_bc9f_988d469de922row3_col11,#T_e8d7e855_30ec_11eb_bc9f_988d469de922row4_col11{\n",
       "            background-color:  #455cce;\n",
       "            color:  #f1f1f1;\n",
       "        }#T_e8d7e855_30ec_11eb_bc9f_988d469de922row2_col12,#T_e8d7e855_30ec_11eb_bc9f_988d469de922row5_col2,#T_e8d7e855_30ec_11eb_bc9f_988d469de922row12_col2{\n",
       "            background-color:  #4257c9;\n",
       "            color:  #f1f1f1;\n",
       "        }#T_e8d7e855_30ec_11eb_bc9f_988d469de922row3_col1,#T_e8d7e855_30ec_11eb_bc9f_988d469de922row12_col1{\n",
       "            background-color:  #5470de;\n",
       "            color:  #000000;\n",
       "        }#T_e8d7e855_30ec_11eb_bc9f_988d469de922row3_col2{\n",
       "            background-color:  #ec7f63;\n",
       "            color:  #000000;\n",
       "        }#T_e8d7e855_30ec_11eb_bc9f_988d469de922row3_col6,#T_e8d7e855_30ec_11eb_bc9f_988d469de922row4_col6,#T_e8d7e855_30ec_11eb_bc9f_988d469de922row6_col2,#T_e8d7e855_30ec_11eb_bc9f_988d469de922row6_col12,#T_e8d7e855_30ec_11eb_bc9f_988d469de922row11_col2{\n",
       "            background-color:  #5b7ae5;\n",
       "            color:  #000000;\n",
       "        }#T_e8d7e855_30ec_11eb_bc9f_988d469de922row3_col7,#T_e8d7e855_30ec_11eb_bc9f_988d469de922row9_col1{\n",
       "            background-color:  #6b8df0;\n",
       "            color:  #000000;\n",
       "        }#T_e8d7e855_30ec_11eb_bc9f_988d469de922row3_col8{\n",
       "            background-color:  #c9d7f0;\n",
       "            color:  #000000;\n",
       "        }#T_e8d7e855_30ec_11eb_bc9f_988d469de922row3_col10{\n",
       "            background-color:  #b1cbfc;\n",
       "            color:  #000000;\n",
       "        }#T_e8d7e855_30ec_11eb_bc9f_988d469de922row4_col0,#T_e8d7e855_30ec_11eb_bc9f_988d469de922row12_col4{\n",
       "            background-color:  #6f92f3;\n",
       "            color:  #000000;\n",
       "        }#T_e8d7e855_30ec_11eb_bc9f_988d469de922row4_col1,#T_e8d7e855_30ec_11eb_bc9f_988d469de922row9_col2{\n",
       "            background-color:  #5673e0;\n",
       "            color:  #000000;\n",
       "        }#T_e8d7e855_30ec_11eb_bc9f_988d469de922row4_col5{\n",
       "            background-color:  #7ea1fa;\n",
       "            color:  #000000;\n",
       "        }#T_e8d7e855_30ec_11eb_bc9f_988d469de922row4_col8{\n",
       "            background-color:  #bed2f6;\n",
       "            color:  #000000;\n",
       "        }#T_e8d7e855_30ec_11eb_bc9f_988d469de922row4_col10,#T_e8d7e855_30ec_11eb_bc9f_988d469de922row11_col10{\n",
       "            background-color:  #bbd1f8;\n",
       "            color:  #000000;\n",
       "        }#T_e8d7e855_30ec_11eb_bc9f_988d469de922row4_col12,#T_e8d7e855_30ec_11eb_bc9f_988d469de922row8_col2,#T_e8d7e855_30ec_11eb_bc9f_988d469de922row9_col12{\n",
       "            background-color:  #6485ec;\n",
       "            color:  #000000;\n",
       "        }#T_e8d7e855_30ec_11eb_bc9f_988d469de922row5_col1,#T_e8d7e855_30ec_11eb_bc9f_988d469de922row8_col1,#T_e8d7e855_30ec_11eb_bc9f_988d469de922row10_col4{\n",
       "            background-color:  #5d7ce6;\n",
       "            color:  #000000;\n",
       "        }#T_e8d7e855_30ec_11eb_bc9f_988d469de922row5_col3,#T_e8d7e855_30ec_11eb_bc9f_988d469de922row7_col5{\n",
       "            background-color:  #485fd1;\n",
       "            color:  #f1f1f1;\n",
       "        }#T_e8d7e855_30ec_11eb_bc9f_988d469de922row5_col4{\n",
       "            background-color:  #81a4fb;\n",
       "            color:  #000000;\n",
       "        }#T_e8d7e855_30ec_11eb_bc9f_988d469de922row5_col6,#T_e8d7e855_30ec_11eb_bc9f_988d469de922row9_col6,#T_e8d7e855_30ec_11eb_bc9f_988d469de922row11_col12{\n",
       "            background-color:  #6e90f2;\n",
       "            color:  #000000;\n",
       "        }#T_e8d7e855_30ec_11eb_bc9f_988d469de922row5_col7,#T_e8d7e855_30ec_11eb_bc9f_988d469de922row8_col0,#T_e8d7e855_30ec_11eb_bc9f_988d469de922row10_col3{\n",
       "            background-color:  #4f69d9;\n",
       "            color:  #000000;\n",
       "        }#T_e8d7e855_30ec_11eb_bc9f_988d469de922row5_col8,#T_e8d7e855_30ec_11eb_bc9f_988d469de922row7_col10,#T_e8d7e855_30ec_11eb_bc9f_988d469de922row12_col10{\n",
       "            background-color:  #b6cefa;\n",
       "            color:  #000000;\n",
       "        }#T_e8d7e855_30ec_11eb_bc9f_988d469de922row5_col9{\n",
       "            background-color:  #a7c5fe;\n",
       "            color:  #000000;\n",
       "        }#T_e8d7e855_30ec_11eb_bc9f_988d469de922row5_col12{\n",
       "            background-color:  #6282ea;\n",
       "            color:  #000000;\n",
       "        }#T_e8d7e855_30ec_11eb_bc9f_988d469de922row6_col5{\n",
       "            background-color:  #799cf8;\n",
       "            color:  #000000;\n",
       "        }#T_e8d7e855_30ec_11eb_bc9f_988d469de922row6_col7,#T_e8d7e855_30ec_11eb_bc9f_988d469de922row8_col6{\n",
       "            background-color:  #5f7fe8;\n",
       "            color:  #000000;\n",
       "        }#T_e8d7e855_30ec_11eb_bc9f_988d469de922row6_col10{\n",
       "            background-color:  #abc8fd;\n",
       "            color:  #000000;\n",
       "        }#T_e8d7e855_30ec_11eb_bc9f_988d469de922row6_col11{\n",
       "            background-color:  #3f53c6;\n",
       "            color:  #f1f1f1;\n",
       "        }#T_e8d7e855_30ec_11eb_bc9f_988d469de922row7_col0{\n",
       "            background-color:  #9bbcff;\n",
       "            color:  #000000;\n",
       "        }#T_e8d7e855_30ec_11eb_bc9f_988d469de922row7_col8{\n",
       "            background-color:  #9dbdff;\n",
       "            color:  #000000;\n",
       "        }#T_e8d7e855_30ec_11eb_bc9f_988d469de922row7_col9{\n",
       "            background-color:  #dadce0;\n",
       "            color:  #000000;\n",
       "        }#T_e8d7e855_30ec_11eb_bc9f_988d469de922row7_col11{\n",
       "            background-color:  #8badfd;\n",
       "            color:  #000000;\n",
       "        }#T_e8d7e855_30ec_11eb_bc9f_988d469de922row7_col12{\n",
       "            background-color:  #97b8ff;\n",
       "            color:  #000000;\n",
       "        }#T_e8d7e855_30ec_11eb_bc9f_988d469de922row9_col3,#T_e8d7e855_30ec_11eb_bc9f_988d469de922row9_col4,#T_e8d7e855_30ec_11eb_bc9f_988d469de922row10_col0{\n",
       "            background-color:  #6c8ff1;\n",
       "            color:  #000000;\n",
       "        }#T_e8d7e855_30ec_11eb_bc9f_988d469de922row9_col7{\n",
       "            background-color:  #b2ccfb;\n",
       "            color:  #000000;\n",
       "        }#T_e8d7e855_30ec_11eb_bc9f_988d469de922row9_col8{\n",
       "            background-color:  #7699f6;\n",
       "            color:  #000000;\n",
       "        }#T_e8d7e855_30ec_11eb_bc9f_988d469de922row10_col7,#T_e8d7e855_30ec_11eb_bc9f_988d469de922row11_col5{\n",
       "            background-color:  #5a78e4;\n",
       "            color:  #000000;\n",
       "        }#T_e8d7e855_30ec_11eb_bc9f_988d469de922row11_col7{\n",
       "            background-color:  #aac7fd;\n",
       "            color:  #000000;\n",
       "        }#T_e8d7e855_30ec_11eb_bc9f_988d469de922row12_col0{\n",
       "            background-color:  #82a6fb;\n",
       "            color:  #000000;\n",
       "        }#T_e8d7e855_30ec_11eb_bc9f_988d469de922row12_col8{\n",
       "            background-color:  #c3d5f4;\n",
       "            color:  #000000;\n",
       "        }#T_e8d7e855_30ec_11eb_bc9f_988d469de922row12_col9{\n",
       "            background-color:  #aec9fc;\n",
       "            color:  #000000;\n",
       "        }#T_e8d7e855_30ec_11eb_bc9f_988d469de922row12_col11{\n",
       "            background-color:  #5875e1;\n",
       "            color:  #000000;\n",
       "        }</style><table id=\"T_e8d7e855_30ec_11eb_bc9f_988d469de922\" ><thead>    <tr>        <th class=\"blank level0\" ></th>        <th class=\"col_heading level0 col0\" >trips_in_first_30_days</th>        <th class=\"col_heading level0 col1\" >avg_rating_of_driver</th>        <th class=\"col_heading level0 col2\" >avg_surge</th>        <th class=\"col_heading level0 col3\" >surge_pct</th>        <th class=\"col_heading level0 col4\" >weekday_pct</th>        <th class=\"col_heading level0 col5\" >avg_dist</th>        <th class=\"col_heading level0 col6\" >avg_rating_by_driver</th>        <th class=\"col_heading level0 col7\" >6th_month</th>        <th class=\"col_heading level0 col8\" >city_Astapor</th>        <th class=\"col_heading level0 col9\" >city_King's Landing</th>        <th class=\"col_heading level0 col10\" >city_Winterfell</th>        <th class=\"col_heading level0 col11\" >phone_iPhone</th>        <th class=\"col_heading level0 col12\" >ultimate_black_user_True</th>    </tr></thead><tbody>\n",
       "                <tr>\n",
       "                        <th id=\"T_e8d7e855_30ec_11eb_bc9f_988d469de922level0_row0\" class=\"row_heading level0 row0\" >trips_in_first_30_days</th>\n",
       "                        <td id=\"T_e8d7e855_30ec_11eb_bc9f_988d469de922row0_col0\" class=\"data row0 col0\" >1.000000</td>\n",
       "                        <td id=\"T_e8d7e855_30ec_11eb_bc9f_988d469de922row0_col1\" class=\"data row0 col1\" >-0.010000</td>\n",
       "                        <td id=\"T_e8d7e855_30ec_11eb_bc9f_988d469de922row0_col2\" class=\"data row0 col2\" >-0.000000</td>\n",
       "                        <td id=\"T_e8d7e855_30ec_11eb_bc9f_988d469de922row0_col3\" class=\"data row0 col3\" >0.010000</td>\n",
       "                        <td id=\"T_e8d7e855_30ec_11eb_bc9f_988d469de922row0_col4\" class=\"data row0 col4\" >0.050000</td>\n",
       "                        <td id=\"T_e8d7e855_30ec_11eb_bc9f_988d469de922row0_col5\" class=\"data row0 col5\" >-0.140000</td>\n",
       "                        <td id=\"T_e8d7e855_30ec_11eb_bc9f_988d469de922row0_col6\" class=\"data row0 col6\" >-0.040000</td>\n",
       "                        <td id=\"T_e8d7e855_30ec_11eb_bc9f_988d469de922row0_col7\" class=\"data row0 col7\" >0.190000</td>\n",
       "                        <td id=\"T_e8d7e855_30ec_11eb_bc9f_988d469de922row0_col8\" class=\"data row0 col8\" >-0.060000</td>\n",
       "                        <td id=\"T_e8d7e855_30ec_11eb_bc9f_988d469de922row0_col9\" class=\"data row0 col9\" >0.030000</td>\n",
       "                        <td id=\"T_e8d7e855_30ec_11eb_bc9f_988d469de922row0_col10\" class=\"data row0 col10\" >0.040000</td>\n",
       "                        <td id=\"T_e8d7e855_30ec_11eb_bc9f_988d469de922row0_col11\" class=\"data row0 col11\" >0.060000</td>\n",
       "                        <td id=\"T_e8d7e855_30ec_11eb_bc9f_988d469de922row0_col12\" class=\"data row0 col12\" >0.110000</td>\n",
       "            </tr>\n",
       "            <tr>\n",
       "                        <th id=\"T_e8d7e855_30ec_11eb_bc9f_988d469de922level0_row1\" class=\"row_heading level0 row1\" >avg_rating_of_driver</th>\n",
       "                        <td id=\"T_e8d7e855_30ec_11eb_bc9f_988d469de922row1_col0\" class=\"data row1 col0\" >-0.010000</td>\n",
       "                        <td id=\"T_e8d7e855_30ec_11eb_bc9f_988d469de922row1_col1\" class=\"data row1 col1\" >1.000000</td>\n",
       "                        <td id=\"T_e8d7e855_30ec_11eb_bc9f_988d469de922row1_col2\" class=\"data row1 col2\" >-0.020000</td>\n",
       "                        <td id=\"T_e8d7e855_30ec_11eb_bc9f_988d469de922row1_col3\" class=\"data row1 col3\" >-0.000000</td>\n",
       "                        <td id=\"T_e8d7e855_30ec_11eb_bc9f_988d469de922row1_col4\" class=\"data row1 col4\" >0.010000</td>\n",
       "                        <td id=\"T_e8d7e855_30ec_11eb_bc9f_988d469de922row1_col5\" class=\"data row1 col5\" >0.030000</td>\n",
       "                        <td id=\"T_e8d7e855_30ec_11eb_bc9f_988d469de922row1_col6\" class=\"data row1 col6\" >0.100000</td>\n",
       "                        <td id=\"T_e8d7e855_30ec_11eb_bc9f_988d469de922row1_col7\" class=\"data row1 col7\" >-0.010000</td>\n",
       "                        <td id=\"T_e8d7e855_30ec_11eb_bc9f_988d469de922row1_col8\" class=\"data row1 col8\" >0.030000</td>\n",
       "                        <td id=\"T_e8d7e855_30ec_11eb_bc9f_988d469de922row1_col9\" class=\"data row1 col9\" >0.080000</td>\n",
       "                        <td id=\"T_e8d7e855_30ec_11eb_bc9f_988d469de922row1_col10\" class=\"data row1 col10\" >-0.090000</td>\n",
       "                        <td id=\"T_e8d7e855_30ec_11eb_bc9f_988d469de922row1_col11\" class=\"data row1 col11\" >-0.020000</td>\n",
       "                        <td id=\"T_e8d7e855_30ec_11eb_bc9f_988d469de922row1_col12\" class=\"data row1 col12\" >-0.000000</td>\n",
       "            </tr>\n",
       "            <tr>\n",
       "                        <th id=\"T_e8d7e855_30ec_11eb_bc9f_988d469de922level0_row2\" class=\"row_heading level0 row2\" >avg_surge</th>\n",
       "                        <td id=\"T_e8d7e855_30ec_11eb_bc9f_988d469de922row2_col0\" class=\"data row2 col0\" >-0.000000</td>\n",
       "                        <td id=\"T_e8d7e855_30ec_11eb_bc9f_988d469de922row2_col1\" class=\"data row2 col1\" >-0.020000</td>\n",
       "                        <td id=\"T_e8d7e855_30ec_11eb_bc9f_988d469de922row2_col2\" class=\"data row2 col2\" >1.000000</td>\n",
       "                        <td id=\"T_e8d7e855_30ec_11eb_bc9f_988d469de922row2_col3\" class=\"data row2 col3\" >0.790000</td>\n",
       "                        <td id=\"T_e8d7e855_30ec_11eb_bc9f_988d469de922row2_col4\" class=\"data row2 col4\" >-0.110000</td>\n",
       "                        <td id=\"T_e8d7e855_30ec_11eb_bc9f_988d469de922row2_col5\" class=\"data row2 col5\" >-0.080000</td>\n",
       "                        <td id=\"T_e8d7e855_30ec_11eb_bc9f_988d469de922row2_col6\" class=\"data row2 col6\" >0.010000</td>\n",
       "                        <td id=\"T_e8d7e855_30ec_11eb_bc9f_988d469de922row2_col7\" class=\"data row2 col7\" >-0.000000</td>\n",
       "                        <td id=\"T_e8d7e855_30ec_11eb_bc9f_988d469de922row2_col8\" class=\"data row2 col8\" >0.040000</td>\n",
       "                        <td id=\"T_e8d7e855_30ec_11eb_bc9f_988d469de922row2_col9\" class=\"data row2 col9\" >-0.010000</td>\n",
       "                        <td id=\"T_e8d7e855_30ec_11eb_bc9f_988d469de922row2_col10\" class=\"data row2 col10\" >-0.030000</td>\n",
       "                        <td id=\"T_e8d7e855_30ec_11eb_bc9f_988d469de922row2_col11\" class=\"data row2 col11\" >0.010000</td>\n",
       "                        <td id=\"T_e8d7e855_30ec_11eb_bc9f_988d469de922row2_col12\" class=\"data row2 col12\" >-0.080000</td>\n",
       "            </tr>\n",
       "            <tr>\n",
       "                        <th id=\"T_e8d7e855_30ec_11eb_bc9f_988d469de922level0_row3\" class=\"row_heading level0 row3\" >surge_pct</th>\n",
       "                        <td id=\"T_e8d7e855_30ec_11eb_bc9f_988d469de922row3_col0\" class=\"data row3 col0\" >0.010000</td>\n",
       "                        <td id=\"T_e8d7e855_30ec_11eb_bc9f_988d469de922row3_col1\" class=\"data row3 col1\" >-0.000000</td>\n",
       "                        <td id=\"T_e8d7e855_30ec_11eb_bc9f_988d469de922row3_col2\" class=\"data row3 col2\" >0.790000</td>\n",
       "                        <td id=\"T_e8d7e855_30ec_11eb_bc9f_988d469de922row3_col3\" class=\"data row3 col3\" >1.000000</td>\n",
       "                        <td id=\"T_e8d7e855_30ec_11eb_bc9f_988d469de922row3_col4\" class=\"data row3 col4\" >-0.150000</td>\n",
       "                        <td id=\"T_e8d7e855_30ec_11eb_bc9f_988d469de922row3_col5\" class=\"data row3 col5\" >-0.100000</td>\n",
       "                        <td id=\"T_e8d7e855_30ec_11eb_bc9f_988d469de922row3_col6\" class=\"data row3 col6\" >0.020000</td>\n",
       "                        <td id=\"T_e8d7e855_30ec_11eb_bc9f_988d469de922row3_col7\" class=\"data row3 col7\" >0.010000</td>\n",
       "                        <td id=\"T_e8d7e855_30ec_11eb_bc9f_988d469de922row3_col8\" class=\"data row3 col8\" >0.050000</td>\n",
       "                        <td id=\"T_e8d7e855_30ec_11eb_bc9f_988d469de922row3_col9\" class=\"data row3 col9\" >0.030000</td>\n",
       "                        <td id=\"T_e8d7e855_30ec_11eb_bc9f_988d469de922row3_col10\" class=\"data row3 col10\" >-0.070000</td>\n",
       "                        <td id=\"T_e8d7e855_30ec_11eb_bc9f_988d469de922row3_col11\" class=\"data row3 col11\" >0.010000</td>\n",
       "                        <td id=\"T_e8d7e855_30ec_11eb_bc9f_988d469de922row3_col12\" class=\"data row3 col12\" >-0.110000</td>\n",
       "            </tr>\n",
       "            <tr>\n",
       "                        <th id=\"T_e8d7e855_30ec_11eb_bc9f_988d469de922level0_row4\" class=\"row_heading level0 row4\" >weekday_pct</th>\n",
       "                        <td id=\"T_e8d7e855_30ec_11eb_bc9f_988d469de922row4_col0\" class=\"data row4 col0\" >0.050000</td>\n",
       "                        <td id=\"T_e8d7e855_30ec_11eb_bc9f_988d469de922row4_col1\" class=\"data row4 col1\" >0.010000</td>\n",
       "                        <td id=\"T_e8d7e855_30ec_11eb_bc9f_988d469de922row4_col2\" class=\"data row4 col2\" >-0.110000</td>\n",
       "                        <td id=\"T_e8d7e855_30ec_11eb_bc9f_988d469de922row4_col3\" class=\"data row4 col3\" >-0.150000</td>\n",
       "                        <td id=\"T_e8d7e855_30ec_11eb_bc9f_988d469de922row4_col4\" class=\"data row4 col4\" >1.000000</td>\n",
       "                        <td id=\"T_e8d7e855_30ec_11eb_bc9f_988d469de922row4_col5\" class=\"data row4 col5\" >0.100000</td>\n",
       "                        <td id=\"T_e8d7e855_30ec_11eb_bc9f_988d469de922row4_col6\" class=\"data row4 col6\" >0.020000</td>\n",
       "                        <td id=\"T_e8d7e855_30ec_11eb_bc9f_988d469de922row4_col7\" class=\"data row4 col7\" >0.000000</td>\n",
       "                        <td id=\"T_e8d7e855_30ec_11eb_bc9f_988d469de922row4_col8\" class=\"data row4 col8\" >-0.010000</td>\n",
       "                        <td id=\"T_e8d7e855_30ec_11eb_bc9f_988d469de922row4_col9\" class=\"data row4 col9\" >0.030000</td>\n",
       "                        <td id=\"T_e8d7e855_30ec_11eb_bc9f_988d469de922row4_col10\" class=\"data row4 col10\" >-0.020000</td>\n",
       "                        <td id=\"T_e8d7e855_30ec_11eb_bc9f_988d469de922row4_col11\" class=\"data row4 col11\" >0.010000</td>\n",
       "                        <td id=\"T_e8d7e855_30ec_11eb_bc9f_988d469de922row4_col12\" class=\"data row4 col12\" >0.040000</td>\n",
       "            </tr>\n",
       "            <tr>\n",
       "                        <th id=\"T_e8d7e855_30ec_11eb_bc9f_988d469de922level0_row5\" class=\"row_heading level0 row5\" >avg_dist</th>\n",
       "                        <td id=\"T_e8d7e855_30ec_11eb_bc9f_988d469de922row5_col0\" class=\"data row5 col0\" >-0.140000</td>\n",
       "                        <td id=\"T_e8d7e855_30ec_11eb_bc9f_988d469de922row5_col1\" class=\"data row5 col1\" >0.030000</td>\n",
       "                        <td id=\"T_e8d7e855_30ec_11eb_bc9f_988d469de922row5_col2\" class=\"data row5 col2\" >-0.080000</td>\n",
       "                        <td id=\"T_e8d7e855_30ec_11eb_bc9f_988d469de922row5_col3\" class=\"data row5 col3\" >-0.100000</td>\n",
       "                        <td id=\"T_e8d7e855_30ec_11eb_bc9f_988d469de922row5_col4\" class=\"data row5 col4\" >0.100000</td>\n",
       "                        <td id=\"T_e8d7e855_30ec_11eb_bc9f_988d469de922row5_col5\" class=\"data row5 col5\" >1.000000</td>\n",
       "                        <td id=\"T_e8d7e855_30ec_11eb_bc9f_988d469de922row5_col6\" class=\"data row5 col6\" >0.080000</td>\n",
       "                        <td id=\"T_e8d7e855_30ec_11eb_bc9f_988d469de922row5_col7\" class=\"data row5 col7\" >-0.090000</td>\n",
       "                        <td id=\"T_e8d7e855_30ec_11eb_bc9f_988d469de922row5_col8\" class=\"data row5 col8\" >-0.050000</td>\n",
       "                        <td id=\"T_e8d7e855_30ec_11eb_bc9f_988d469de922row5_col9\" class=\"data row5 col9\" >0.010000</td>\n",
       "                        <td id=\"T_e8d7e855_30ec_11eb_bc9f_988d469de922row5_col10\" class=\"data row5 col10\" >0.030000</td>\n",
       "                        <td id=\"T_e8d7e855_30ec_11eb_bc9f_988d469de922row5_col11\" class=\"data row5 col11\" >-0.020000</td>\n",
       "                        <td id=\"T_e8d7e855_30ec_11eb_bc9f_988d469de922row5_col12\" class=\"data row5 col12\" >0.030000</td>\n",
       "            </tr>\n",
       "            <tr>\n",
       "                        <th id=\"T_e8d7e855_30ec_11eb_bc9f_988d469de922level0_row6\" class=\"row_heading level0 row6\" >avg_rating_by_driver</th>\n",
       "                        <td id=\"T_e8d7e855_30ec_11eb_bc9f_988d469de922row6_col0\" class=\"data row6 col0\" >-0.040000</td>\n",
       "                        <td id=\"T_e8d7e855_30ec_11eb_bc9f_988d469de922row6_col1\" class=\"data row6 col1\" >0.100000</td>\n",
       "                        <td id=\"T_e8d7e855_30ec_11eb_bc9f_988d469de922row6_col2\" class=\"data row6 col2\" >0.010000</td>\n",
       "                        <td id=\"T_e8d7e855_30ec_11eb_bc9f_988d469de922row6_col3\" class=\"data row6 col3\" >0.020000</td>\n",
       "                        <td id=\"T_e8d7e855_30ec_11eb_bc9f_988d469de922row6_col4\" class=\"data row6 col4\" >0.020000</td>\n",
       "                        <td id=\"T_e8d7e855_30ec_11eb_bc9f_988d469de922row6_col5\" class=\"data row6 col5\" >0.080000</td>\n",
       "                        <td id=\"T_e8d7e855_30ec_11eb_bc9f_988d469de922row6_col6\" class=\"data row6 col6\" >1.000000</td>\n",
       "                        <td id=\"T_e8d7e855_30ec_11eb_bc9f_988d469de922row6_col7\" class=\"data row6 col7\" >-0.030000</td>\n",
       "                        <td id=\"T_e8d7e855_30ec_11eb_bc9f_988d469de922row6_col8\" class=\"data row6 col8\" >0.030000</td>\n",
       "                        <td id=\"T_e8d7e855_30ec_11eb_bc9f_988d469de922row6_col9\" class=\"data row6 col9\" >0.080000</td>\n",
       "                        <td id=\"T_e8d7e855_30ec_11eb_bc9f_988d469de922row6_col10\" class=\"data row6 col10\" >-0.100000</td>\n",
       "                        <td id=\"T_e8d7e855_30ec_11eb_bc9f_988d469de922row6_col11\" class=\"data row6 col11\" >-0.010000</td>\n",
       "                        <td id=\"T_e8d7e855_30ec_11eb_bc9f_988d469de922row6_col12\" class=\"data row6 col12\" >0.010000</td>\n",
       "            </tr>\n",
       "            <tr>\n",
       "                        <th id=\"T_e8d7e855_30ec_11eb_bc9f_988d469de922level0_row7\" class=\"row_heading level0 row7\" >6th_month</th>\n",
       "                        <td id=\"T_e8d7e855_30ec_11eb_bc9f_988d469de922row7_col0\" class=\"data row7 col0\" >0.190000</td>\n",
       "                        <td id=\"T_e8d7e855_30ec_11eb_bc9f_988d469de922row7_col1\" class=\"data row7 col1\" >-0.010000</td>\n",
       "                        <td id=\"T_e8d7e855_30ec_11eb_bc9f_988d469de922row7_col2\" class=\"data row7 col2\" >-0.000000</td>\n",
       "                        <td id=\"T_e8d7e855_30ec_11eb_bc9f_988d469de922row7_col3\" class=\"data row7 col3\" >0.010000</td>\n",
       "                        <td id=\"T_e8d7e855_30ec_11eb_bc9f_988d469de922row7_col4\" class=\"data row7 col4\" >0.000000</td>\n",
       "                        <td id=\"T_e8d7e855_30ec_11eb_bc9f_988d469de922row7_col5\" class=\"data row7 col5\" >-0.090000</td>\n",
       "                        <td id=\"T_e8d7e855_30ec_11eb_bc9f_988d469de922row7_col6\" class=\"data row7 col6\" >-0.030000</td>\n",
       "                        <td id=\"T_e8d7e855_30ec_11eb_bc9f_988d469de922row7_col7\" class=\"data row7 col7\" >1.000000</td>\n",
       "                        <td id=\"T_e8d7e855_30ec_11eb_bc9f_988d469de922row7_col8\" class=\"data row7 col8\" >-0.170000</td>\n",
       "                        <td id=\"T_e8d7e855_30ec_11eb_bc9f_988d469de922row7_col9\" class=\"data row7 col9\" >0.250000</td>\n",
       "                        <td id=\"T_e8d7e855_30ec_11eb_bc9f_988d469de922row7_col10\" class=\"data row7 col10\" >-0.050000</td>\n",
       "                        <td id=\"T_e8d7e855_30ec_11eb_bc9f_988d469de922row7_col11\" class=\"data row7 col11\" >0.220000</td>\n",
       "                        <td id=\"T_e8d7e855_30ec_11eb_bc9f_988d469de922row7_col12\" class=\"data row7 col12\" >0.200000</td>\n",
       "            </tr>\n",
       "            <tr>\n",
       "                        <th id=\"T_e8d7e855_30ec_11eb_bc9f_988d469de922level0_row8\" class=\"row_heading level0 row8\" >city_Astapor</th>\n",
       "                        <td id=\"T_e8d7e855_30ec_11eb_bc9f_988d469de922row8_col0\" class=\"data row8 col0\" >-0.060000</td>\n",
       "                        <td id=\"T_e8d7e855_30ec_11eb_bc9f_988d469de922row8_col1\" class=\"data row8 col1\" >0.030000</td>\n",
       "                        <td id=\"T_e8d7e855_30ec_11eb_bc9f_988d469de922row8_col2\" class=\"data row8 col2\" >0.040000</td>\n",
       "                        <td id=\"T_e8d7e855_30ec_11eb_bc9f_988d469de922row8_col3\" class=\"data row8 col3\" >0.050000</td>\n",
       "                        <td id=\"T_e8d7e855_30ec_11eb_bc9f_988d469de922row8_col4\" class=\"data row8 col4\" >-0.010000</td>\n",
       "                        <td id=\"T_e8d7e855_30ec_11eb_bc9f_988d469de922row8_col5\" class=\"data row8 col5\" >-0.050000</td>\n",
       "                        <td id=\"T_e8d7e855_30ec_11eb_bc9f_988d469de922row8_col6\" class=\"data row8 col6\" >0.030000</td>\n",
       "                        <td id=\"T_e8d7e855_30ec_11eb_bc9f_988d469de922row8_col7\" class=\"data row8 col7\" >-0.170000</td>\n",
       "                        <td id=\"T_e8d7e855_30ec_11eb_bc9f_988d469de922row8_col8\" class=\"data row8 col8\" >1.000000</td>\n",
       "                        <td id=\"T_e8d7e855_30ec_11eb_bc9f_988d469de922row8_col9\" class=\"data row8 col9\" >-0.350000</td>\n",
       "                        <td id=\"T_e8d7e855_30ec_11eb_bc9f_988d469de922row8_col10\" class=\"data row8 col10\" >-0.660000</td>\n",
       "                        <td id=\"T_e8d7e855_30ec_11eb_bc9f_988d469de922row8_col11\" class=\"data row8 col11\" >-0.030000</td>\n",
       "                        <td id=\"T_e8d7e855_30ec_11eb_bc9f_988d469de922row8_col12\" class=\"data row8 col12\" >0.020000</td>\n",
       "            </tr>\n",
       "            <tr>\n",
       "                        <th id=\"T_e8d7e855_30ec_11eb_bc9f_988d469de922level0_row9\" class=\"row_heading level0 row9\" >city_King's Landing</th>\n",
       "                        <td id=\"T_e8d7e855_30ec_11eb_bc9f_988d469de922row9_col0\" class=\"data row9 col0\" >0.030000</td>\n",
       "                        <td id=\"T_e8d7e855_30ec_11eb_bc9f_988d469de922row9_col1\" class=\"data row9 col1\" >0.080000</td>\n",
       "                        <td id=\"T_e8d7e855_30ec_11eb_bc9f_988d469de922row9_col2\" class=\"data row9 col2\" >-0.010000</td>\n",
       "                        <td id=\"T_e8d7e855_30ec_11eb_bc9f_988d469de922row9_col3\" class=\"data row9 col3\" >0.030000</td>\n",
       "                        <td id=\"T_e8d7e855_30ec_11eb_bc9f_988d469de922row9_col4\" class=\"data row9 col4\" >0.030000</td>\n",
       "                        <td id=\"T_e8d7e855_30ec_11eb_bc9f_988d469de922row9_col5\" class=\"data row9 col5\" >0.010000</td>\n",
       "                        <td id=\"T_e8d7e855_30ec_11eb_bc9f_988d469de922row9_col6\" class=\"data row9 col6\" >0.080000</td>\n",
       "                        <td id=\"T_e8d7e855_30ec_11eb_bc9f_988d469de922row9_col7\" class=\"data row9 col7\" >0.250000</td>\n",
       "                        <td id=\"T_e8d7e855_30ec_11eb_bc9f_988d469de922row9_col8\" class=\"data row9 col8\" >-0.350000</td>\n",
       "                        <td id=\"T_e8d7e855_30ec_11eb_bc9f_988d469de922row9_col9\" class=\"data row9 col9\" >1.000000</td>\n",
       "                        <td id=\"T_e8d7e855_30ec_11eb_bc9f_988d469de922row9_col10\" class=\"data row9 col10\" >-0.470000</td>\n",
       "                        <td id=\"T_e8d7e855_30ec_11eb_bc9f_988d469de922row9_col11\" class=\"data row9 col11\" >0.060000</td>\n",
       "                        <td id=\"T_e8d7e855_30ec_11eb_bc9f_988d469de922row9_col12\" class=\"data row9 col12\" >0.040000</td>\n",
       "            </tr>\n",
       "            <tr>\n",
       "                        <th id=\"T_e8d7e855_30ec_11eb_bc9f_988d469de922level0_row10\" class=\"row_heading level0 row10\" >city_Winterfell</th>\n",
       "                        <td id=\"T_e8d7e855_30ec_11eb_bc9f_988d469de922row10_col0\" class=\"data row10 col0\" >0.040000</td>\n",
       "                        <td id=\"T_e8d7e855_30ec_11eb_bc9f_988d469de922row10_col1\" class=\"data row10 col1\" >-0.090000</td>\n",
       "                        <td id=\"T_e8d7e855_30ec_11eb_bc9f_988d469de922row10_col2\" class=\"data row10 col2\" >-0.030000</td>\n",
       "                        <td id=\"T_e8d7e855_30ec_11eb_bc9f_988d469de922row10_col3\" class=\"data row10 col3\" >-0.070000</td>\n",
       "                        <td id=\"T_e8d7e855_30ec_11eb_bc9f_988d469de922row10_col4\" class=\"data row10 col4\" >-0.020000</td>\n",
       "                        <td id=\"T_e8d7e855_30ec_11eb_bc9f_988d469de922row10_col5\" class=\"data row10 col5\" >0.030000</td>\n",
       "                        <td id=\"T_e8d7e855_30ec_11eb_bc9f_988d469de922row10_col6\" class=\"data row10 col6\" >-0.100000</td>\n",
       "                        <td id=\"T_e8d7e855_30ec_11eb_bc9f_988d469de922row10_col7\" class=\"data row10 col7\" >-0.050000</td>\n",
       "                        <td id=\"T_e8d7e855_30ec_11eb_bc9f_988d469de922row10_col8\" class=\"data row10 col8\" >-0.660000</td>\n",
       "                        <td id=\"T_e8d7e855_30ec_11eb_bc9f_988d469de922row10_col9\" class=\"data row10 col9\" >-0.470000</td>\n",
       "                        <td id=\"T_e8d7e855_30ec_11eb_bc9f_988d469de922row10_col10\" class=\"data row10 col10\" >1.000000</td>\n",
       "                        <td id=\"T_e8d7e855_30ec_11eb_bc9f_988d469de922row10_col11\" class=\"data row10 col11\" >-0.020000</td>\n",
       "                        <td id=\"T_e8d7e855_30ec_11eb_bc9f_988d469de922row10_col12\" class=\"data row10 col12\" >-0.050000</td>\n",
       "            </tr>\n",
       "            <tr>\n",
       "                        <th id=\"T_e8d7e855_30ec_11eb_bc9f_988d469de922level0_row11\" class=\"row_heading level0 row11\" >phone_iPhone</th>\n",
       "                        <td id=\"T_e8d7e855_30ec_11eb_bc9f_988d469de922row11_col0\" class=\"data row11 col0\" >0.060000</td>\n",
       "                        <td id=\"T_e8d7e855_30ec_11eb_bc9f_988d469de922row11_col1\" class=\"data row11 col1\" >-0.020000</td>\n",
       "                        <td id=\"T_e8d7e855_30ec_11eb_bc9f_988d469de922row11_col2\" class=\"data row11 col2\" >0.010000</td>\n",
       "                        <td id=\"T_e8d7e855_30ec_11eb_bc9f_988d469de922row11_col3\" class=\"data row11 col3\" >0.010000</td>\n",
       "                        <td id=\"T_e8d7e855_30ec_11eb_bc9f_988d469de922row11_col4\" class=\"data row11 col4\" >0.010000</td>\n",
       "                        <td id=\"T_e8d7e855_30ec_11eb_bc9f_988d469de922row11_col5\" class=\"data row11 col5\" >-0.020000</td>\n",
       "                        <td id=\"T_e8d7e855_30ec_11eb_bc9f_988d469de922row11_col6\" class=\"data row11 col6\" >-0.010000</td>\n",
       "                        <td id=\"T_e8d7e855_30ec_11eb_bc9f_988d469de922row11_col7\" class=\"data row11 col7\" >0.220000</td>\n",
       "                        <td id=\"T_e8d7e855_30ec_11eb_bc9f_988d469de922row11_col8\" class=\"data row11 col8\" >-0.030000</td>\n",
       "                        <td id=\"T_e8d7e855_30ec_11eb_bc9f_988d469de922row11_col9\" class=\"data row11 col9\" >0.060000</td>\n",
       "                        <td id=\"T_e8d7e855_30ec_11eb_bc9f_988d469de922row11_col10\" class=\"data row11 col10\" >-0.020000</td>\n",
       "                        <td id=\"T_e8d7e855_30ec_11eb_bc9f_988d469de922row11_col11\" class=\"data row11 col11\" >1.000000</td>\n",
       "                        <td id=\"T_e8d7e855_30ec_11eb_bc9f_988d469de922row11_col12\" class=\"data row11 col12\" >0.070000</td>\n",
       "            </tr>\n",
       "            <tr>\n",
       "                        <th id=\"T_e8d7e855_30ec_11eb_bc9f_988d469de922level0_row12\" class=\"row_heading level0 row12\" >ultimate_black_user_True</th>\n",
       "                        <td id=\"T_e8d7e855_30ec_11eb_bc9f_988d469de922row12_col0\" class=\"data row12 col0\" >0.110000</td>\n",
       "                        <td id=\"T_e8d7e855_30ec_11eb_bc9f_988d469de922row12_col1\" class=\"data row12 col1\" >-0.000000</td>\n",
       "                        <td id=\"T_e8d7e855_30ec_11eb_bc9f_988d469de922row12_col2\" class=\"data row12 col2\" >-0.080000</td>\n",
       "                        <td id=\"T_e8d7e855_30ec_11eb_bc9f_988d469de922row12_col3\" class=\"data row12 col3\" >-0.110000</td>\n",
       "                        <td id=\"T_e8d7e855_30ec_11eb_bc9f_988d469de922row12_col4\" class=\"data row12 col4\" >0.040000</td>\n",
       "                        <td id=\"T_e8d7e855_30ec_11eb_bc9f_988d469de922row12_col5\" class=\"data row12 col5\" >0.030000</td>\n",
       "                        <td id=\"T_e8d7e855_30ec_11eb_bc9f_988d469de922row12_col6\" class=\"data row12 col6\" >0.010000</td>\n",
       "                        <td id=\"T_e8d7e855_30ec_11eb_bc9f_988d469de922row12_col7\" class=\"data row12 col7\" >0.200000</td>\n",
       "                        <td id=\"T_e8d7e855_30ec_11eb_bc9f_988d469de922row12_col8\" class=\"data row12 col8\" >0.020000</td>\n",
       "                        <td id=\"T_e8d7e855_30ec_11eb_bc9f_988d469de922row12_col9\" class=\"data row12 col9\" >0.040000</td>\n",
       "                        <td id=\"T_e8d7e855_30ec_11eb_bc9f_988d469de922row12_col10\" class=\"data row12 col10\" >-0.050000</td>\n",
       "                        <td id=\"T_e8d7e855_30ec_11eb_bc9f_988d469de922row12_col11\" class=\"data row12 col11\" >0.070000</td>\n",
       "                        <td id=\"T_e8d7e855_30ec_11eb_bc9f_988d469de922row12_col12\" class=\"data row12 col12\" >1.000000</td>\n",
       "            </tr>\n",
       "    </tbody></table>"
      ],
      "text/plain": [
       "<pandas.io.formats.style.Styler at 0x1c7c65d3790>"
      ]
     },
     "execution_count": 52,
     "metadata": {},
     "output_type": "execute_result"
    }
   ],
   "source": [
    "#Calculate the correlation coefficients\n",
    "\n",
    "corr = df.corr()\n",
    "corr.round(2).style.background_gradient(cmap='coolwarm')"
   ]
  },
  {
   "cell_type": "markdown",
   "metadata": {},
   "source": [
    "None of the columns seem to be very correlated with whether or not the passenger will be active in their 6th month.  Trips in the first 30 days seems to be the best indicator of this.  Iphone users, users from King's Landing, or Astapor, and ultimate Black users seem to be the factors most correlated with whether or not the passenger will be active in their 6th month. \n",
    "\n",
    "So I'm going to build a logistic regression model and a decision tree model and see which gives me better predictive power based on the 3 variables identified above."
   ]
  },
  {
   "cell_type": "code",
   "execution_count": 53,
   "metadata": {},
   "outputs": [],
   "source": [
    "y = df['6th_month']"
   ]
  },
  {
   "cell_type": "code",
   "execution_count": 54,
   "metadata": {},
   "outputs": [],
   "source": [
    "X = df[['trips_in_first_30_days','city_Astapor', \"city_King's Landing\", 'city_Winterfell', 'phone_iPhone', 'ultimate_black_user_True']]"
   ]
  },
  {
   "cell_type": "code",
   "execution_count": 55,
   "metadata": {},
   "outputs": [
    {
     "data": {
      "text/html": [
       "<div>\n",
       "<style scoped>\n",
       "    .dataframe tbody tr th:only-of-type {\n",
       "        vertical-align: middle;\n",
       "    }\n",
       "\n",
       "    .dataframe tbody tr th {\n",
       "        vertical-align: top;\n",
       "    }\n",
       "\n",
       "    .dataframe thead th {\n",
       "        text-align: right;\n",
       "    }\n",
       "</style>\n",
       "<table border=\"1\" class=\"dataframe\">\n",
       "  <thead>\n",
       "    <tr style=\"text-align: right;\">\n",
       "      <th></th>\n",
       "      <th>trips_in_first_30_days</th>\n",
       "      <th>city_Astapor</th>\n",
       "      <th>city_King's Landing</th>\n",
       "      <th>city_Winterfell</th>\n",
       "      <th>phone_iPhone</th>\n",
       "      <th>ultimate_black_user_True</th>\n",
       "    </tr>\n",
       "  </thead>\n",
       "  <tbody>\n",
       "    <tr>\n",
       "      <th>0</th>\n",
       "      <td>4</td>\n",
       "      <td>0</td>\n",
       "      <td>1</td>\n",
       "      <td>0</td>\n",
       "      <td>1</td>\n",
       "      <td>1</td>\n",
       "    </tr>\n",
       "    <tr>\n",
       "      <th>1</th>\n",
       "      <td>0</td>\n",
       "      <td>1</td>\n",
       "      <td>0</td>\n",
       "      <td>0</td>\n",
       "      <td>0</td>\n",
       "      <td>0</td>\n",
       "    </tr>\n",
       "    <tr>\n",
       "      <th>2</th>\n",
       "      <td>3</td>\n",
       "      <td>1</td>\n",
       "      <td>0</td>\n",
       "      <td>0</td>\n",
       "      <td>1</td>\n",
       "      <td>0</td>\n",
       "    </tr>\n",
       "    <tr>\n",
       "      <th>3</th>\n",
       "      <td>9</td>\n",
       "      <td>0</td>\n",
       "      <td>1</td>\n",
       "      <td>0</td>\n",
       "      <td>1</td>\n",
       "      <td>1</td>\n",
       "    </tr>\n",
       "    <tr>\n",
       "      <th>4</th>\n",
       "      <td>14</td>\n",
       "      <td>0</td>\n",
       "      <td>0</td>\n",
       "      <td>1</td>\n",
       "      <td>0</td>\n",
       "      <td>0</td>\n",
       "    </tr>\n",
       "  </tbody>\n",
       "</table>\n",
       "</div>"
      ],
      "text/plain": [
       "   trips_in_first_30_days  city_Astapor  city_King's Landing  city_Winterfell  \\\n",
       "0                       4             0                    1                0   \n",
       "1                       0             1                    0                0   \n",
       "2                       3             1                    0                0   \n",
       "3                       9             0                    1                0   \n",
       "4                      14             0                    0                1   \n",
       "\n",
       "   phone_iPhone  ultimate_black_user_True  \n",
       "0             1                         1  \n",
       "1             0                         0  \n",
       "2             1                         0  \n",
       "3             1                         1  \n",
       "4             0                         0  "
      ]
     },
     "execution_count": 55,
     "metadata": {},
     "output_type": "execute_result"
    }
   ],
   "source": [
    "X.head()"
   ]
  },
  {
   "cell_type": "markdown",
   "metadata": {},
   "source": [
    "# Logistic Regression Model"
   ]
  },
  {
   "cell_type": "code",
   "execution_count": 56,
   "metadata": {},
   "outputs": [
    {
     "name": "stdout",
     "output_type": "stream",
     "text": [
      "0.7126038222723974\n"
     ]
    }
   ],
   "source": [
    "from sklearn.model_selection import train_test_split\n",
    "from sklearn.linear_model import LogisticRegression\n",
    "from sklearn.metrics import accuracy_score\n",
    "\n",
    "# Split the data into a training and test set.\n",
    "Xlr, Xtestlr, ylr, ytestlr = train_test_split(X, y,random_state=5)\n",
    "\n",
    "clf = LogisticRegression()\n",
    "# Fit the model on the trainng data.\n",
    "clf.fit(Xlr, ylr)\n",
    "# Print the accuracy from the testing data.\n",
    "print(accuracy_score(clf.predict(Xtestlr), ytestlr))"
   ]
  },
  {
   "cell_type": "code",
   "execution_count": 57,
   "metadata": {},
   "outputs": [
    {
     "name": "stdout",
     "output_type": "stream",
     "text": [
      "0.001 0.7080880574147246\n",
      "0.1 0.7170658280246217\n",
      "1 0.716985189366449\n",
      "10 0.716985189366449\n",
      "100 0.716985189366449\n"
     ]
    }
   ],
   "source": [
    "#the grid of parameters to search over\n",
    "Cs = [0.001, 0.1, 1, 10, 100]\n",
    "\n",
    "# your turn\n",
    "from sklearn.datasets import load_iris\n",
    "from sklearn.linear_model import LogisticRegressionCV\n",
    "\n",
    "for i in Cs:\n",
    "    clf = LogisticRegressionCV(Cs=[i], max_iter= 1000, random_state=0).fit(Xlr, ylr)\n",
    "    clf.predict(Xlr)\n",
    "    print(i,clf.score(Xlr,ylr))"
   ]
  },
  {
   "cell_type": "code",
   "execution_count": 58,
   "metadata": {},
   "outputs": [
    {
     "name": "stdout",
     "output_type": "stream",
     "text": [
      "{'C': 0.1}\n",
      "0.7125231836142246\n"
     ]
    }
   ],
   "source": [
    "from sklearn.model_selection import GridSearchCV\n",
    "\n",
    "grid = {'C': [0.001, 0.1, 1, 10, 100]}\n",
    "\n",
    "clf = GridSearchCV(LogisticRegression(), grid)\n",
    "\n",
    "clf.fit(Xlr, ylr)\n",
    "\n",
    "print(clf.best_params_)\n",
    "\n",
    "print(accuracy_score(clf.predict(Xtestlr), ytestlr))"
   ]
  },
  {
   "cell_type": "code",
   "execution_count": 59,
   "metadata": {},
   "outputs": [
    {
     "name": "stdout",
     "output_type": "stream",
     "text": [
      "0.7125231836142246\n"
     ]
    }
   ],
   "source": [
    "# Split the data into a training and test set.\n",
    "Xlr, Xtestlr, ylr, ytestlr = train_test_split(X, y,random_state=5)\n",
    "\n",
    "clf = LogisticRegression(C=.1)\n",
    "# Fit the model on the trainng data.\n",
    "clf.fit(Xlr, ylr)\n",
    "# Print the accuracy from the testing data.\n",
    "print(accuracy_score(clf.predict(Xtestlr), ytestlr))"
   ]
  },
  {
   "cell_type": "markdown",
   "metadata": {},
   "source": [
    "# Decision Tree Model\n",
    "\n",
    "Model Entropy model - no max_depth"
   ]
  },
  {
   "cell_type": "code",
   "execution_count": 60,
   "metadata": {},
   "outputs": [],
   "source": [
    "#!pip install pydotplus"
   ]
  },
  {
   "cell_type": "code",
   "execution_count": 61,
   "metadata": {},
   "outputs": [],
   "source": [
    "#!pip install sklearn.externals.six"
   ]
  },
  {
   "cell_type": "code",
   "execution_count": 62,
   "metadata": {},
   "outputs": [],
   "source": [
    "from IPython.display import Image  \n",
    "import pydotplus\n",
    "from sklearn import tree, metrics\n",
    "from sklearn.model_selection import train_test_split"
   ]
  },
  {
   "cell_type": "code",
   "execution_count": 63,
   "metadata": {},
   "outputs": [],
   "source": [
    "X_train, X_test, y_train, y_test = train_test_split(X, y, test_size=0.25, random_state=246)"
   ]
  },
  {
   "cell_type": "code",
   "execution_count": 64,
   "metadata": {},
   "outputs": [
    {
     "data": {
      "text/plain": [
       "DecisionTreeClassifier(criterion='entropy', random_state=1234)"
      ]
     },
     "execution_count": 64,
     "metadata": {},
     "output_type": "execute_result"
    }
   ],
   "source": [
    "\n",
    "entr_model = tree.DecisionTreeClassifier(criterion=\"entropy\", random_state = 1234)\n",
    "\n",
    "# Call fit() on entr_model\n",
    "entr_model.fit(X_train, y_train)\n",
    "\n",
    "# Call predict() on entr_model with X_test passed to it, and assign the result to a variable y_pred \n",
    "\n",
    "y_pred = entr_model.predict(X_test)\n",
    "\n",
    "# Call Series on our y_pred variable with the following: pd.Series(y_pred)\n",
    "pd.Series(y_pred)\n",
    "\n",
    "# Check out entr_model\n",
    "entr_model"
   ]
  },
  {
   "cell_type": "code",
   "execution_count": 69,
   "metadata": {},
   "outputs": [
    {
     "name": "stdout",
     "output_type": "stream",
     "text": [
      "Model Entropy - no max depth\n",
      "Accuracy: 0.7284896379324248\n",
      "Balanced accuracy: 0.6773995559855844\n",
      "Precision score for \"Yes\" 0.6721411192214112\n",
      "Precision score for \"No\" 0.7488203665093822\n",
      "Recall score for \"Yes\" 0.4912202711713714\n",
      "Recall score for \"No\" 0.8635788407997975\n"
     ]
    }
   ],
   "source": [
    "# Run this block for model evaluation metrics \n",
    "print(\"Model Entropy - no max depth\")\n",
    "print(\"Accuracy:\", metrics.accuracy_score(y_test,y_pred))\n",
    "print(\"Balanced accuracy:\", metrics.balanced_accuracy_score(y_test,y_pred))\n",
    "print('Precision score for \"Yes\"' , metrics.precision_score(y_test,y_pred, pos_label = 1))\n",
    "print('Precision score for \"No\"' , metrics.precision_score(y_test,y_pred, pos_label = 0))\n",
    "print('Recall score for \"Yes\"' , metrics.recall_score(y_test,y_pred, pos_label = 1))\n",
    "print('Recall score for \"No\"' , metrics.recall_score(y_test,y_pred, pos_label = 0))"
   ]
  },
  {
   "cell_type": "markdown",
   "metadata": {},
   "source": [
    "# 3.3"
   ]
  },
  {
   "cell_type": "markdown",
   "metadata": {},
   "source": [
    "Ultimate can use the Decision tree model with an accurate of .728 in order to improve it's long-term rider retention.  Retention is going to be based on the City of the user.  Iphone users and ultimate Black Users are more likely to continue to be using the service in June.  An accuracy of .728 is not overly strong, but if we did some more hyperparameter tunign we maybe could make it more accurate.    "
   ]
  }
 ],
 "metadata": {
  "kernelspec": {
   "display_name": "Python 3",
   "language": "python",
   "name": "python3"
  },
  "language_info": {
   "codemirror_mode": {
    "name": "ipython",
    "version": 3
   },
   "file_extension": ".py",
   "mimetype": "text/x-python",
   "name": "python",
   "nbconvert_exporter": "python",
   "pygments_lexer": "ipython3",
   "version": "3.8.5"
  }
 },
 "nbformat": 4,
 "nbformat_minor": 4
}
